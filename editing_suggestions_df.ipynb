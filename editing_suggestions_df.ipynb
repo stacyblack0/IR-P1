{
 "cells": [
  {
   "cell_type": "code",
   "execution_count": 1,
   "metadata": {},
   "outputs": [],
   "source": [
    "import pickle as pkl\n",
    "import pandas as pd"
   ]
  },
  {
   "cell_type": "code",
   "execution_count": 16,
   "metadata": {},
   "outputs": [],
   "source": [
    "file = open('suggestions_df2.pkl', 'rb')\n",
    "df = pkl.load(file)\n",
    "file.close()"
   ]
  },
  {
   "cell_type": "code",
   "execution_count": 17,
   "metadata": {},
   "outputs": [],
   "source": [
    "df['Query'] = df['Query'].astype(str)"
   ]
  },
  {
   "cell_type": "code",
   "execution_count": 18,
   "metadata": {},
   "outputs": [
    {
     "data": {
      "text/html": [
       "<div>\n",
       "<style scoped>\n",
       "    .dataframe tbody tr th:only-of-type {\n",
       "        vertical-align: middle;\n",
       "    }\n",
       "\n",
       "    .dataframe tbody tr th {\n",
       "        vertical-align: top;\n",
       "    }\n",
       "\n",
       "    .dataframe thead th {\n",
       "        text-align: right;\n",
       "    }\n",
       "</style>\n",
       "<table border=\"1\" class=\"dataframe\">\n",
       "  <thead>\n",
       "    <tr style=\"text-align: right;\">\n",
       "      <th></th>\n",
       "      <th>AnonID</th>\n",
       "      <th>Query</th>\n",
       "      <th>QueryTime</th>\n",
       "      <th>q_time</th>\n",
       "      <th>q_split</th>\n",
       "      <th>q_length</th>\n",
       "    </tr>\n",
       "  </thead>\n",
       "  <tbody>\n",
       "    <tr>\n",
       "      <th>0</th>\n",
       "      <td>142</td>\n",
       "      <td>merit release appearance</td>\n",
       "      <td>2006-04-22 23:51:18</td>\n",
       "      <td>1.145750e+09</td>\n",
       "      <td>[merit, release, appearance]</td>\n",
       "      <td>3</td>\n",
       "    </tr>\n",
       "    <tr>\n",
       "      <th>1</th>\n",
       "      <td>217</td>\n",
       "      <td>lottery</td>\n",
       "      <td>2006-03-01 11:58:51</td>\n",
       "      <td>1.141214e+09</td>\n",
       "      <td>[lottery]</td>\n",
       "      <td>1</td>\n",
       "    </tr>\n",
       "    <tr>\n",
       "      <th>2</th>\n",
       "      <td>217</td>\n",
       "      <td>lottery</td>\n",
       "      <td>2006-03-27 14:10:38</td>\n",
       "      <td>1.143469e+09</td>\n",
       "      <td>[lottery]</td>\n",
       "      <td>1</td>\n",
       "    </tr>\n",
       "    <tr>\n",
       "      <th>3</th>\n",
       "      <td>217</td>\n",
       "      <td>vietnam</td>\n",
       "      <td>2006-05-22 17:43:42</td>\n",
       "      <td>1.148320e+09</td>\n",
       "      <td>[vietnam]</td>\n",
       "      <td>1</td>\n",
       "    </tr>\n",
       "    <tr>\n",
       "      <th>4</th>\n",
       "      <td>217</td>\n",
       "      <td>vietnam</td>\n",
       "      <td>2006-05-22 18:03:24</td>\n",
       "      <td>1.148321e+09</td>\n",
       "      <td>[vietnam]</td>\n",
       "      <td>1</td>\n",
       "    </tr>\n",
       "    <tr>\n",
       "      <th>5</th>\n",
       "      <td>1268</td>\n",
       "      <td>gall stones</td>\n",
       "      <td>2006-05-11 02:12:51</td>\n",
       "      <td>1.147314e+09</td>\n",
       "      <td>[gall, stones]</td>\n",
       "      <td>2</td>\n",
       "    </tr>\n",
       "    <tr>\n",
       "      <th>6</th>\n",
       "      <td>1268</td>\n",
       "      <td>gallstones</td>\n",
       "      <td>2006-05-11 02:13:02</td>\n",
       "      <td>1.147314e+09</td>\n",
       "      <td>[gallstones]</td>\n",
       "      <td>1</td>\n",
       "    </tr>\n",
       "    <tr>\n",
       "      <th>7</th>\n",
       "      <td>1326</td>\n",
       "      <td>files</td>\n",
       "      <td>2006-03-01 17:36:08</td>\n",
       "      <td>1.141235e+09</td>\n",
       "      <td>[files]</td>\n",
       "      <td>1</td>\n",
       "    </tr>\n",
       "    <tr>\n",
       "      <th>8</th>\n",
       "      <td>1326</td>\n",
       "      <td>pop up adds</td>\n",
       "      <td>2006-03-15 20:07:38</td>\n",
       "      <td>1.142453e+09</td>\n",
       "      <td>[pop, up, adds]</td>\n",
       "      <td>3</td>\n",
       "    </tr>\n",
       "    <tr>\n",
       "      <th>9</th>\n",
       "      <td>1326</td>\n",
       "      <td>pop up adds</td>\n",
       "      <td>2006-03-15 20:08:29</td>\n",
       "      <td>1.142453e+09</td>\n",
       "      <td>[pop, up, adds]</td>\n",
       "      <td>3</td>\n",
       "    </tr>\n",
       "  </tbody>\n",
       "</table>\n",
       "</div>"
      ],
      "text/plain": [
       "   AnonID                     Query           QueryTime        q_time  \\\n",
       "0     142  merit release appearance 2006-04-22 23:51:18  1.145750e+09   \n",
       "1     217                   lottery 2006-03-01 11:58:51  1.141214e+09   \n",
       "2     217                   lottery 2006-03-27 14:10:38  1.143469e+09   \n",
       "3     217                   vietnam 2006-05-22 17:43:42  1.148320e+09   \n",
       "4     217                   vietnam 2006-05-22 18:03:24  1.148321e+09   \n",
       "5    1268               gall stones 2006-05-11 02:12:51  1.147314e+09   \n",
       "6    1268                gallstones 2006-05-11 02:13:02  1.147314e+09   \n",
       "7    1326                     files 2006-03-01 17:36:08  1.141235e+09   \n",
       "8    1326               pop up adds 2006-03-15 20:07:38  1.142453e+09   \n",
       "9    1326               pop up adds 2006-03-15 20:08:29  1.142453e+09   \n",
       "\n",
       "                        q_split  q_length  \n",
       "0  [merit, release, appearance]         3  \n",
       "1                     [lottery]         1  \n",
       "2                     [lottery]         1  \n",
       "3                     [vietnam]         1  \n",
       "4                     [vietnam]         1  \n",
       "5                [gall, stones]         2  \n",
       "6                  [gallstones]         1  \n",
       "7                       [files]         1  \n",
       "8               [pop, up, adds]         3  \n",
       "9               [pop, up, adds]         3  "
      ]
     },
     "execution_count": 18,
     "metadata": {},
     "output_type": "execute_result"
    }
   ],
   "source": [
    "df.drop(columns=['q_split_join'], inplace = True)\n",
    "df.head(10)"
   ]
  },
  {
   "cell_type": "code",
   "execution_count": 5,
   "metadata": {},
   "outputs": [],
   "source": [
    "#df['q_split'] = df['Query'].apply(lambda x: str(x).split(' '))"
   ]
  },
  {
   "cell_type": "code",
   "execution_count": 11,
   "metadata": {},
   "outputs": [],
   "source": [
    "#df['q_split1'] = df['Query'].apply(lambda x: x.split(' '))"
   ]
  },
  {
   "cell_type": "code",
   "execution_count": 19,
   "metadata": {},
   "outputs": [],
   "source": [
    "file2 = open('suggestions_df2.pkl', 'wb')\n",
    "pkl.dump(df, file2)\n",
    "file2.close()"
   ]
  },
  {
   "cell_type": "code",
   "execution_count": null,
   "metadata": {},
   "outputs": [],
   "source": []
  }
 ],
 "metadata": {
  "kernelspec": {
   "display_name": "Python 3",
   "language": "python",
   "name": "python3"
  },
  "language_info": {
   "codemirror_mode": {
    "name": "ipython",
    "version": 3
   },
   "file_extension": ".py",
   "mimetype": "text/x-python",
   "name": "python",
   "nbconvert_exporter": "python",
   "pygments_lexer": "ipython3",
   "version": "3.6.6"
  }
 },
 "nbformat": 4,
 "nbformat_minor": 2
}
