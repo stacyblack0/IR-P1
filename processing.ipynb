{
 "cells": [
  {
   "cell_type": "code",
   "execution_count": 1,
   "metadata": {},
   "outputs": [],
   "source": [
    "import pandas as pd\n",
    "import time\n",
    "import pickle as pkl\n",
    "import os.path"
   ]
  },
  {
   "cell_type": "markdown",
   "metadata": {},
   "source": [
    "## logs"
   ]
  },
  {
   "cell_type": "code",
   "execution_count": 2,
   "metadata": {},
   "outputs": [],
   "source": [
    "#infile = open('logs.pkl','rb')\n",
    "#logs = pkl.load(infile)\n",
    "#infile.close()"
   ]
  },
  {
   "cell_type": "code",
   "execution_count": 3,
   "metadata": {},
   "outputs": [],
   "source": [
    "#logs = pd.read_csv('clean_log_data_all.txt',delimiter='\\t',encoding='utf-8')"
   ]
  },
  {
   "cell_type": "code",
   "execution_count": 4,
   "metadata": {},
   "outputs": [],
   "source": [
    "#logs.head()"
   ]
  },
  {
   "cell_type": "code",
   "execution_count": 5,
   "metadata": {},
   "outputs": [],
   "source": [
    "#outfile = open('logs.pkl','wb')\n",
    "#pkl.dump(logs,outfile)\n",
    "#outfile.close()"
   ]
  },
  {
   "cell_type": "markdown",
   "metadata": {},
   "source": [
    "## docs\n",
    "https://stackoverflow.com/questions/31468117/python-3-can-pickle-handle-byte-objects-larger-than-4gb"
   ]
  },
  {
   "cell_type": "code",
   "execution_count": 14,
   "metadata": {},
   "outputs": [],
   "source": [
    "docs = pd.read_csv('wikipedia_text_files.csv',delimiter=',',encoding='utf-8')"
   ]
  },
  {
   "cell_type": "code",
   "execution_count": 7,
   "metadata": {},
   "outputs": [
    {
     "data": {
      "text/html": [
       "<div>\n",
       "<style scoped>\n",
       "    .dataframe tbody tr th:only-of-type {\n",
       "        vertical-align: middle;\n",
       "    }\n",
       "\n",
       "    .dataframe tbody tr th {\n",
       "        vertical-align: top;\n",
       "    }\n",
       "\n",
       "    .dataframe thead th {\n",
       "        text-align: right;\n",
       "    }\n",
       "</style>\n",
       "<table border=\"1\" class=\"dataframe\">\n",
       "  <thead>\n",
       "    <tr style=\"text-align: right;\">\n",
       "      <th></th>\n",
       "      <th>content</th>\n",
       "      <th>title</th>\n",
       "      <th>id</th>\n",
       "    </tr>\n",
       "  </thead>\n",
       "  <tbody>\n",
       "    <tr>\n",
       "      <th>0</th>\n",
       "      <td>Morocco–Saudi Arabia relations\\n\\nMoroccan–Sau...</td>\n",
       "      <td>Morocco–Saudi_Arabia_relations</td>\n",
       "      <td>1</td>\n",
       "    </tr>\n",
       "    <tr>\n",
       "      <th>1</th>\n",
       "      <td>Anthony United States Post Office\\n\\nThe Antho...</td>\n",
       "      <td>Anthony_United_States_Post_Office</td>\n",
       "      <td>2</td>\n",
       "    </tr>\n",
       "    <tr>\n",
       "      <th>2</th>\n",
       "      <td>Dumraon (Vidhan Sabha constituency)\\n\\nDumraon...</td>\n",
       "      <td>Dumraon__Vidhan_Sabha_constituency_</td>\n",
       "      <td>3</td>\n",
       "    </tr>\n",
       "    <tr>\n",
       "      <th>3</th>\n",
       "      <td>Chaker Khazaal\\n\\nChaker Khazaal (born 28 Sept...</td>\n",
       "      <td>Chaker_Khazaal</td>\n",
       "      <td>4</td>\n",
       "    </tr>\n",
       "    <tr>\n",
       "      <th>4</th>\n",
       "      <td>Vicente Pascual Pastor\\n\\nVicente Pascual Past...</td>\n",
       "      <td>Vicente_Pascual_Pastor</td>\n",
       "      <td>5</td>\n",
       "    </tr>\n",
       "  </tbody>\n",
       "</table>\n",
       "</div>"
      ],
      "text/plain": [
       "                                             content  \\\n",
       "0  Morocco–Saudi Arabia relations\\n\\nMoroccan–Sau...   \n",
       "1  Anthony United States Post Office\\n\\nThe Antho...   \n",
       "2  Dumraon (Vidhan Sabha constituency)\\n\\nDumraon...   \n",
       "3  Chaker Khazaal\\n\\nChaker Khazaal (born 28 Sept...   \n",
       "4  Vicente Pascual Pastor\\n\\nVicente Pascual Past...   \n",
       "\n",
       "                                 title  id  \n",
       "0       Morocco–Saudi_Arabia_relations   1  \n",
       "1    Anthony_United_States_Post_Office   2  \n",
       "2  Dumraon__Vidhan_Sabha_constituency_   3  \n",
       "3                       Chaker_Khazaal   4  \n",
       "4               Vicente_Pascual_Pastor   5  "
      ]
     },
     "execution_count": 7,
     "metadata": {},
     "output_type": "execute_result"
    }
   ],
   "source": [
    "docs.head()"
   ]
  },
  {
   "cell_type": "code",
   "execution_count": 8,
   "metadata": {},
   "outputs": [],
   "source": [
    "docs = docs.applymap(str)\n",
    "docs['content'] = docs[docs['content'].apply(lambda x: type(x)==str)]"
   ]
  },
  {
   "cell_type": "code",
   "execution_count": 9,
   "metadata": {},
   "outputs": [],
   "source": [
    "def replaceNewline(row):\n",
    "    try:\n",
    "        return row.replace('\\n', ' ')\n",
    "    except:\n",
    "        return row"
   ]
  },
  {
   "cell_type": "code",
   "execution_count": 10,
   "metadata": {},
   "outputs": [],
   "source": [
    "def replaceUnderscore(row):\n",
    "    try:\n",
    "        return row.replace('_', ' ')\n",
    "    except:\n",
    "        return row"
   ]
  },
  {
   "cell_type": "code",
   "execution_count": 11,
   "metadata": {},
   "outputs": [
    {
     "name": "stdout",
     "output_type": "stream",
     "text": [
      "CPU times: user 2.7 s, sys: 1.53 s, total: 4.23 s\n",
      "Wall time: 4.23 s\n"
     ]
    }
   ],
   "source": [
    "%%time\n",
    "docs['content'] = docs['content'].apply(lambda row: replaceNewline(row))"
   ]
  },
  {
   "cell_type": "code",
   "execution_count": 12,
   "metadata": {},
   "outputs": [
    {
     "name": "stdout",
     "output_type": "stream",
     "text": [
      "CPU times: user 464 ms, sys: 11.9 ms, total: 475 ms\n",
      "Wall time: 474 ms\n"
     ]
    }
   ],
   "source": [
    "%%time\n",
    "docs['title'] = docs['title'].apply(lambda row: replaceUnderscore(row))"
   ]
  },
  {
   "cell_type": "code",
   "execution_count": 13,
   "metadata": {},
   "outputs": [
    {
     "data": {
      "text/html": [
       "<div>\n",
       "<style scoped>\n",
       "    .dataframe tbody tr th:only-of-type {\n",
       "        vertical-align: middle;\n",
       "    }\n",
       "\n",
       "    .dataframe tbody tr th {\n",
       "        vertical-align: top;\n",
       "    }\n",
       "\n",
       "    .dataframe thead th {\n",
       "        text-align: right;\n",
       "    }\n",
       "</style>\n",
       "<table border=\"1\" class=\"dataframe\">\n",
       "  <thead>\n",
       "    <tr style=\"text-align: right;\">\n",
       "      <th></th>\n",
       "      <th>content</th>\n",
       "      <th>title</th>\n",
       "      <th>id</th>\n",
       "    </tr>\n",
       "  </thead>\n",
       "  <tbody>\n",
       "    <tr>\n",
       "      <th>0</th>\n",
       "      <td>Morocco–Saudi Arabia relations  Moroccan–Saudi...</td>\n",
       "      <td>Morocco–Saudi Arabia relations</td>\n",
       "      <td>1</td>\n",
       "    </tr>\n",
       "    <tr>\n",
       "      <th>1</th>\n",
       "      <td>Anthony United States Post Office  The Anthony...</td>\n",
       "      <td>Anthony United States Post Office</td>\n",
       "      <td>2</td>\n",
       "    </tr>\n",
       "    <tr>\n",
       "      <th>2</th>\n",
       "      <td>Dumraon (Vidhan Sabha constituency)  Dumraon V...</td>\n",
       "      <td>Dumraon  Vidhan Sabha constituency</td>\n",
       "      <td>3</td>\n",
       "    </tr>\n",
       "    <tr>\n",
       "      <th>3</th>\n",
       "      <td>Chaker Khazaal  Chaker Khazaal (born 28 Septem...</td>\n",
       "      <td>Chaker Khazaal</td>\n",
       "      <td>4</td>\n",
       "    </tr>\n",
       "    <tr>\n",
       "      <th>4</th>\n",
       "      <td>Vicente Pascual Pastor  Vicente Pascual Pastor...</td>\n",
       "      <td>Vicente Pascual Pastor</td>\n",
       "      <td>5</td>\n",
       "    </tr>\n",
       "  </tbody>\n",
       "</table>\n",
       "</div>"
      ],
      "text/plain": [
       "                                             content  \\\n",
       "0  Morocco–Saudi Arabia relations  Moroccan–Saudi...   \n",
       "1  Anthony United States Post Office  The Anthony...   \n",
       "2  Dumraon (Vidhan Sabha constituency)  Dumraon V...   \n",
       "3  Chaker Khazaal  Chaker Khazaal (born 28 Septem...   \n",
       "4  Vicente Pascual Pastor  Vicente Pascual Pastor...   \n",
       "\n",
       "                                 title id  \n",
       "0       Morocco–Saudi Arabia relations  1  \n",
       "1    Anthony United States Post Office  2  \n",
       "2  Dumraon  Vidhan Sabha constituency   3  \n",
       "3                       Chaker Khazaal  4  \n",
       "4               Vicente Pascual Pastor  5  "
      ]
     },
     "execution_count": 13,
     "metadata": {},
     "output_type": "execute_result"
    }
   ],
   "source": [
    "docs.head()"
   ]
  },
  {
   "cell_type": "code",
   "execution_count": 14,
   "metadata": {},
   "outputs": [
    {
     "data": {
      "text/plain": [
       "166276"
      ]
     },
     "execution_count": 14,
     "metadata": {},
     "output_type": "execute_result"
    }
   ],
   "source": [
    "docs_sample = docs.sample(frac=0.1)\n",
    "len(docs_sample)"
   ]
  },
  {
   "cell_type": "code",
   "execution_count": 15,
   "metadata": {},
   "outputs": [
    {
     "data": {
      "text/html": [
       "<div>\n",
       "<style scoped>\n",
       "    .dataframe tbody tr th:only-of-type {\n",
       "        vertical-align: middle;\n",
       "    }\n",
       "\n",
       "    .dataframe tbody tr th {\n",
       "        vertical-align: top;\n",
       "    }\n",
       "\n",
       "    .dataframe thead th {\n",
       "        text-align: right;\n",
       "    }\n",
       "</style>\n",
       "<table border=\"1\" class=\"dataframe\">\n",
       "  <thead>\n",
       "    <tr style=\"text-align: right;\">\n",
       "      <th></th>\n",
       "      <th>content</th>\n",
       "      <th>title</th>\n",
       "      <th>id</th>\n",
       "    </tr>\n",
       "  </thead>\n",
       "  <tbody>\n",
       "    <tr>\n",
       "      <th>1662751</th>\n",
       "      <td>Toppr  Toppr is a product of Haygot Education ...</td>\n",
       "      <td>Toppr</td>\n",
       "      <td>1662752</td>\n",
       "    </tr>\n",
       "    <tr>\n",
       "      <th>1662752</th>\n",
       "      <td>Outline of education  The following outline is...</td>\n",
       "      <td>Outline of education</td>\n",
       "      <td>1662753</td>\n",
       "    </tr>\n",
       "    <tr>\n",
       "      <th>1662753</th>\n",
       "      <td>Raell Padamsee  Raell Padamsee is an Indian th...</td>\n",
       "      <td>Raell Padamsee</td>\n",
       "      <td>1662754</td>\n",
       "    </tr>\n",
       "    <tr>\n",
       "      <th>1662754</th>\n",
       "      <td>Megan Callaway  Megan Callaway is a founder of...</td>\n",
       "      <td>Megan Callaway</td>\n",
       "      <td>1662755</td>\n",
       "    </tr>\n",
       "    <tr>\n",
       "      <th>1662755</th>\n",
       "      <td>Diane Reay  Diane Reay is a sociologist and pr...</td>\n",
       "      <td>Diane Reay</td>\n",
       "      <td>1662756</td>\n",
       "    </tr>\n",
       "  </tbody>\n",
       "</table>\n",
       "</div>"
      ],
      "text/plain": [
       "                                                   content  \\\n",
       "1662751  Toppr  Toppr is a product of Haygot Education ...   \n",
       "1662752  Outline of education  The following outline is...   \n",
       "1662753  Raell Padamsee  Raell Padamsee is an Indian th...   \n",
       "1662754  Megan Callaway  Megan Callaway is a founder of...   \n",
       "1662755  Diane Reay  Diane Reay is a sociologist and pr...   \n",
       "\n",
       "                        title       id  \n",
       "1662751                 Toppr  1662752  \n",
       "1662752  Outline of education  1662753  \n",
       "1662753        Raell Padamsee  1662754  \n",
       "1662754        Megan Callaway  1662755  \n",
       "1662755            Diane Reay  1662756  "
      ]
     },
     "execution_count": 15,
     "metadata": {},
     "output_type": "execute_result"
    }
   ],
   "source": [
    "docs.shape\n",
    "docs.tail()"
   ]
  },
  {
   "cell_type": "code",
   "execution_count": 16,
   "metadata": {},
   "outputs": [],
   "source": [
    "df1 = docs.iloc[0:166276] # first five rows of dataframe\n",
    "df2 = docs.iloc[166276:332552]\n",
    "df3 = docs.iloc[332552:498828]\n",
    "df4 = docs.iloc[498828:665104]\n",
    "df5 = docs.iloc[665104:831380]\n",
    "df6 = docs.iloc[831380:997656]\n",
    "df7 = docs.iloc[997656:1163932]\n",
    "df8 = docs.iloc[1163932:1330208]\n",
    "df9 = docs.iloc[1330208:1496484]\n",
    "df10 = docs.iloc[1496484:1662756]"
   ]
  },
  {
   "cell_type": "code",
   "execution_count": 17,
   "metadata": {},
   "outputs": [
    {
     "name": "stderr",
     "output_type": "stream",
     "text": [
      "/home/amifaraj/anaconda3/lib/python3.7/site-packages/sklearn/externals/joblib/_multiprocessing_helpers.py:38: UserWarning: [Errno 12] Cannot allocate memory.  joblib will operate in serial mode\n",
      "  warnings.warn('%s.  joblib will operate in serial mode' % (e,))\n"
     ]
    }
   ],
   "source": [
    "#from nltk.tokenize import word_tokenize\n",
    "\n",
    "#https://www.geeksforgeeks.org/removing-stop-words-nltk-python/\n",
    "from nltk.tokenize import RegexpTokenizer\n",
    "tokenizer = RegexpTokenizer(r'\\w+')\n",
    "from nltk.corpus import stopwords \n",
    "stop_words = set(stopwords.words('english')) \n",
    "\n",
    "#https://pythonspot.com/nltk-stemming/\n",
    "from nltk.stem import PorterStemmer\n",
    "ps = PorterStemmer()\n",
    "\n",
    "from IPython.display import display\n",
    "\n",
    "def process(content):\n",
    "    #df = row.to_frame()\n",
    "    # split documents with tokenizer\n",
    "    processed = tokenizer.tokenize(content)\n",
    "    # remove punctuation\n",
    "    #processed = [token for token in processed if token != ',' and token != '.']\n",
    "    # remove capitalization\n",
    "    processed = [token.lower() for token in processed]\n",
    "    # remove stopwords\n",
    "    processed = [token for token in processed if token not in stop_words]\n",
    "    # lemmatize/stem terms\n",
    "    return [ps.stem(token) for token in processed]\n",
    "   "
   ]
  },
  {
   "cell_type": "markdown",
   "metadata": {},
   "source": [
    "## doc1"
   ]
  },
  {
   "cell_type": "code",
   "execution_count": 69,
   "metadata": {},
   "outputs": [
    {
     "name": "stdout",
     "output_type": "stream",
     "text": [
      "CPU times: user 15min 7s, sys: 1.05 s, total: 15min 8s\n",
      "Wall time: 15min 8s\n"
     ]
    },
    {
     "name": "stderr",
     "output_type": "stream",
     "text": [
      "/home/amifaraj/anaconda3/lib/python3.7/site-packages/ipykernel_launcher.py:1: SettingWithCopyWarning: \n",
      "A value is trying to be set on a copy of a slice from a DataFrame.\n",
      "Try using .loc[row_indexer,col_indexer] = value instead\n",
      "\n",
      "See the caveats in the documentation: http://pandas.pydata.org/pandas-docs/stable/indexing.html#indexing-view-versus-copy\n",
      "  \"\"\"Entry point for launching an IPython kernel.\n"
     ]
    }
   ],
   "source": [
    "%%time\n",
    "df1['processed_content'] = df1['content'].apply(lambda row: process(row))"
   ]
  },
  {
   "cell_type": "code",
   "execution_count": 70,
   "metadata": {},
   "outputs": [
    {
     "data": {
      "text/html": [
       "<div>\n",
       "<style scoped>\n",
       "    .dataframe tbody tr th:only-of-type {\n",
       "        vertical-align: middle;\n",
       "    }\n",
       "\n",
       "    .dataframe tbody tr th {\n",
       "        vertical-align: top;\n",
       "    }\n",
       "\n",
       "    .dataframe thead th {\n",
       "        text-align: right;\n",
       "    }\n",
       "</style>\n",
       "<table border=\"1\" class=\"dataframe\">\n",
       "  <thead>\n",
       "    <tr style=\"text-align: right;\">\n",
       "      <th></th>\n",
       "      <th>content</th>\n",
       "      <th>title</th>\n",
       "      <th>id</th>\n",
       "      <th>processed_content</th>\n",
       "    </tr>\n",
       "  </thead>\n",
       "  <tbody>\n",
       "    <tr>\n",
       "      <th>0</th>\n",
       "      <td>Morocco–Saudi Arabia relations  Moroccan–Saudi...</td>\n",
       "      <td>Morocco–Saudi Arabia relations</td>\n",
       "      <td>1</td>\n",
       "      <td>[morocco, saudi, arabia, relat, moroccan, saud...</td>\n",
       "    </tr>\n",
       "    <tr>\n",
       "      <th>1</th>\n",
       "      <td>Anthony United States Post Office  The Anthony...</td>\n",
       "      <td>Anthony United States Post Office</td>\n",
       "      <td>2</td>\n",
       "      <td>[anthoni, unit, state, post, offic, anthoni, u...</td>\n",
       "    </tr>\n",
       "    <tr>\n",
       "      <th>2</th>\n",
       "      <td>Dumraon (Vidhan Sabha constituency)  Dumraon V...</td>\n",
       "      <td>Dumraon  Vidhan Sabha constituency</td>\n",
       "      <td>3</td>\n",
       "      <td>[dumraon, vidhan, sabha, constitu, dumraon, vi...</td>\n",
       "    </tr>\n",
       "    <tr>\n",
       "      <th>3</th>\n",
       "      <td>Chaker Khazaal  Chaker Khazaal (born 28 Septem...</td>\n",
       "      <td>Chaker Khazaal</td>\n",
       "      <td>4</td>\n",
       "      <td>[chaker, khazaal, chaker, khazaal, born, 28, s...</td>\n",
       "    </tr>\n",
       "    <tr>\n",
       "      <th>4</th>\n",
       "      <td>Vicente Pascual Pastor  Vicente Pascual Pastor...</td>\n",
       "      <td>Vicente Pascual Pastor</td>\n",
       "      <td>5</td>\n",
       "      <td>[vicent, pascual, pastor, vicent, pascual, pas...</td>\n",
       "    </tr>\n",
       "  </tbody>\n",
       "</table>\n",
       "</div>"
      ],
      "text/plain": [
       "                                             content  \\\n",
       "0  Morocco–Saudi Arabia relations  Moroccan–Saudi...   \n",
       "1  Anthony United States Post Office  The Anthony...   \n",
       "2  Dumraon (Vidhan Sabha constituency)  Dumraon V...   \n",
       "3  Chaker Khazaal  Chaker Khazaal (born 28 Septem...   \n",
       "4  Vicente Pascual Pastor  Vicente Pascual Pastor...   \n",
       "\n",
       "                                 title id  \\\n",
       "0       Morocco–Saudi Arabia relations  1   \n",
       "1    Anthony United States Post Office  2   \n",
       "2  Dumraon  Vidhan Sabha constituency   3   \n",
       "3                       Chaker Khazaal  4   \n",
       "4               Vicente Pascual Pastor  5   \n",
       "\n",
       "                                   processed_content  \n",
       "0  [morocco, saudi, arabia, relat, moroccan, saud...  \n",
       "1  [anthoni, unit, state, post, offic, anthoni, u...  \n",
       "2  [dumraon, vidhan, sabha, constitu, dumraon, vi...  \n",
       "3  [chaker, khazaal, chaker, khazaal, born, 28, s...  \n",
       "4  [vicent, pascual, pastor, vicent, pascual, pas...  "
      ]
     },
     "execution_count": 70,
     "metadata": {},
     "output_type": "execute_result"
    }
   ],
   "source": [
    "df1.head()"
   ]
  },
  {
   "cell_type": "code",
   "execution_count": 72,
   "metadata": {},
   "outputs": [],
   "source": [
    "df1.to_csv(r'doc1.csv')"
   ]
  },
  {
   "cell_type": "markdown",
   "metadata": {},
   "source": [
    "## doc2"
   ]
  },
  {
   "cell_type": "code",
   "execution_count": 21,
   "metadata": {},
   "outputs": [
    {
     "name": "stdout",
     "output_type": "stream",
     "text": [
      "CPU times: user 14min 21s, sys: 936 ms, total: 14min 22s\n",
      "Wall time: 14min 22s\n"
     ]
    },
    {
     "name": "stderr",
     "output_type": "stream",
     "text": [
      "/home/amifaraj/anaconda3/lib/python3.7/site-packages/ipykernel_launcher.py:1: SettingWithCopyWarning: \n",
      "A value is trying to be set on a copy of a slice from a DataFrame.\n",
      "Try using .loc[row_indexer,col_indexer] = value instead\n",
      "\n",
      "See the caveats in the documentation: http://pandas.pydata.org/pandas-docs/stable/indexing.html#indexing-view-versus-copy\n",
      "  \"\"\"Entry point for launching an IPython kernel.\n"
     ]
    }
   ],
   "source": [
    "%%time\n",
    "df2['processed_content'] = df2['content'].apply(lambda row: process(row))"
   ]
  },
  {
   "cell_type": "code",
   "execution_count": 22,
   "metadata": {},
   "outputs": [
    {
     "data": {
      "text/html": [
       "<div>\n",
       "<style scoped>\n",
       "    .dataframe tbody tr th:only-of-type {\n",
       "        vertical-align: middle;\n",
       "    }\n",
       "\n",
       "    .dataframe tbody tr th {\n",
       "        vertical-align: top;\n",
       "    }\n",
       "\n",
       "    .dataframe thead th {\n",
       "        text-align: right;\n",
       "    }\n",
       "</style>\n",
       "<table border=\"1\" class=\"dataframe\">\n",
       "  <thead>\n",
       "    <tr style=\"text-align: right;\">\n",
       "      <th></th>\n",
       "      <th>content</th>\n",
       "      <th>title</th>\n",
       "      <th>id</th>\n",
       "      <th>processed_content</th>\n",
       "    </tr>\n",
       "  </thead>\n",
       "  <tbody>\n",
       "    <tr>\n",
       "      <th>166276</th>\n",
       "      <td>Mario D'Agata  Mario D'Agata (29 May 1926 – 4 ...</td>\n",
       "      <td>Mario D Agata</td>\n",
       "      <td>166277</td>\n",
       "      <td>[mario, agata, mario, agata, 29, may, 1926, 4,...</td>\n",
       "    </tr>\n",
       "    <tr>\n",
       "      <th>166277</th>\n",
       "      <td>Father of the Australian House of Representati...</td>\n",
       "      <td>Father of the Australian House of Representatives</td>\n",
       "      <td>166278</td>\n",
       "      <td>[father, australian, hous, repres, australian,...</td>\n",
       "    </tr>\n",
       "    <tr>\n",
       "      <th>166278</th>\n",
       "      <td>Li'l Abner (musical)  Li'l Abner is a musical ...</td>\n",
       "      <td>Li l Abner  musical</td>\n",
       "      <td>166279</td>\n",
       "      <td>[li, l, abner, music, li, l, abner, music, boo...</td>\n",
       "    </tr>\n",
       "    <tr>\n",
       "      <th>166279</th>\n",
       "      <td>Chalfont &amp;amp; Latimer station  Chalfont &amp; Lat...</td>\n",
       "      <td>Chalfont  amp  Latimer station</td>\n",
       "      <td>166280</td>\n",
       "      <td>[chalfont, amp, latim, station, chalfont, lati...</td>\n",
       "    </tr>\n",
       "    <tr>\n",
       "      <th>166280</th>\n",
       "      <td>Monty Python's Big Red Book  Monty Python's Bi...</td>\n",
       "      <td>Monty Python s Big Red Book</td>\n",
       "      <td>166281</td>\n",
       "      <td>[monti, python, big, red, book, monti, python,...</td>\n",
       "    </tr>\n",
       "  </tbody>\n",
       "</table>\n",
       "</div>"
      ],
      "text/plain": [
       "                                                  content  \\\n",
       "166276  Mario D'Agata  Mario D'Agata (29 May 1926 – 4 ...   \n",
       "166277  Father of the Australian House of Representati...   \n",
       "166278  Li'l Abner (musical)  Li'l Abner is a musical ...   \n",
       "166279  Chalfont &amp; Latimer station  Chalfont & Lat...   \n",
       "166280  Monty Python's Big Red Book  Monty Python's Bi...   \n",
       "\n",
       "                                                    title      id  \\\n",
       "166276                                      Mario D Agata  166277   \n",
       "166277  Father of the Australian House of Representatives  166278   \n",
       "166278                               Li l Abner  musical   166279   \n",
       "166279                     Chalfont  amp  Latimer station  166280   \n",
       "166280                        Monty Python s Big Red Book  166281   \n",
       "\n",
       "                                        processed_content  \n",
       "166276  [mario, agata, mario, agata, 29, may, 1926, 4,...  \n",
       "166277  [father, australian, hous, repres, australian,...  \n",
       "166278  [li, l, abner, music, li, l, abner, music, boo...  \n",
       "166279  [chalfont, amp, latim, station, chalfont, lati...  \n",
       "166280  [monti, python, big, red, book, monti, python,...  "
      ]
     },
     "execution_count": 22,
     "metadata": {},
     "output_type": "execute_result"
    }
   ],
   "source": [
    "df2.head()"
   ]
  },
  {
   "cell_type": "code",
   "execution_count": 23,
   "metadata": {},
   "outputs": [],
   "source": [
    "df2.to_csv(r'doc2.csv')"
   ]
  },
  {
   "cell_type": "markdown",
   "metadata": {},
   "source": [
    "## doc3"
   ]
  },
  {
   "cell_type": "code",
   "execution_count": 15,
   "metadata": {},
   "outputs": [
    {
     "name": "stdout",
     "output_type": "stream",
     "text": [
      "CPU times: user 12min 8s, sys: 676 ms, total: 12min 8s\n",
      "Wall time: 12min 8s\n"
     ]
    },
    {
     "name": "stderr",
     "output_type": "stream",
     "text": [
      "/home/amifaraj/anaconda3/lib/python3.7/site-packages/ipykernel_launcher.py:1: SettingWithCopyWarning: \n",
      "A value is trying to be set on a copy of a slice from a DataFrame.\n",
      "Try using .loc[row_indexer,col_indexer] = value instead\n",
      "\n",
      "See the caveats in the documentation: http://pandas.pydata.org/pandas-docs/stable/indexing.html#indexing-view-versus-copy\n",
      "  \"\"\"Entry point for launching an IPython kernel.\n"
     ]
    }
   ],
   "source": [
    "%%time\n",
    "df3['processed_content'] = df3['content'].apply(lambda row: process(row))"
   ]
  },
  {
   "cell_type": "code",
   "execution_count": 20,
   "metadata": {},
   "outputs": [
    {
     "data": {
      "text/html": [
       "<div>\n",
       "<style scoped>\n",
       "    .dataframe tbody tr th:only-of-type {\n",
       "        vertical-align: middle;\n",
       "    }\n",
       "\n",
       "    .dataframe tbody tr th {\n",
       "        vertical-align: top;\n",
       "    }\n",
       "\n",
       "    .dataframe thead th {\n",
       "        text-align: right;\n",
       "    }\n",
       "</style>\n",
       "<table border=\"1\" class=\"dataframe\">\n",
       "  <thead>\n",
       "    <tr style=\"text-align: right;\">\n",
       "      <th></th>\n",
       "      <th>content</th>\n",
       "      <th>title</th>\n",
       "      <th>id</th>\n",
       "      <th>processed_content</th>\n",
       "    </tr>\n",
       "  </thead>\n",
       "  <tbody>\n",
       "    <tr>\n",
       "      <th>332552</th>\n",
       "      <td>Gord Martineau  Gord Martineau (born September...</td>\n",
       "      <td>Gord Martineau</td>\n",
       "      <td>332553</td>\n",
       "      <td>[gord, martineau, gord, martineau, born, septe...</td>\n",
       "    </tr>\n",
       "    <tr>\n",
       "      <th>332553</th>\n",
       "      <td>Crazy quilting  The term \"crazy quilting\" is o...</td>\n",
       "      <td>Crazy quilting</td>\n",
       "      <td>332554</td>\n",
       "      <td>[crazi, quilt, term, crazi, quilt, often, use,...</td>\n",
       "    </tr>\n",
       "    <tr>\n",
       "      <th>332554</th>\n",
       "      <td>Seesaw mechanism  In the theory of grand unifi...</td>\n",
       "      <td>Seesaw mechanism</td>\n",
       "      <td>332555</td>\n",
       "      <td>[seesaw, mechan, theori, grand, unif, particl,...</td>\n",
       "    </tr>\n",
       "    <tr>\n",
       "      <th>332555</th>\n",
       "      <td>A1086 road  The A1086 is a road in County Durh...</td>\n",
       "      <td>A1086 road</td>\n",
       "      <td>332556</td>\n",
       "      <td>[a1086, road, a1086, road, counti, durham, nor...</td>\n",
       "    </tr>\n",
       "    <tr>\n",
       "      <th>332556</th>\n",
       "      <td>Honor Among Enemies  Honor Among Enemies is a ...</td>\n",
       "      <td>Honor Among Enemies</td>\n",
       "      <td>332557</td>\n",
       "      <td>[honor, among, enemi, honor, among, enemi, sci...</td>\n",
       "    </tr>\n",
       "  </tbody>\n",
       "</table>\n",
       "</div>"
      ],
      "text/plain": [
       "                                                  content  \\\n",
       "332552  Gord Martineau  Gord Martineau (born September...   \n",
       "332553  Crazy quilting  The term \"crazy quilting\" is o...   \n",
       "332554  Seesaw mechanism  In the theory of grand unifi...   \n",
       "332555  A1086 road  The A1086 is a road in County Durh...   \n",
       "332556  Honor Among Enemies  Honor Among Enemies is a ...   \n",
       "\n",
       "                      title      id  \\\n",
       "332552       Gord Martineau  332553   \n",
       "332553       Crazy quilting  332554   \n",
       "332554     Seesaw mechanism  332555   \n",
       "332555           A1086 road  332556   \n",
       "332556  Honor Among Enemies  332557   \n",
       "\n",
       "                                        processed_content  \n",
       "332552  [gord, martineau, gord, martineau, born, septe...  \n",
       "332553  [crazi, quilt, term, crazi, quilt, often, use,...  \n",
       "332554  [seesaw, mechan, theori, grand, unif, particl,...  \n",
       "332555  [a1086, road, a1086, road, counti, durham, nor...  \n",
       "332556  [honor, among, enemi, honor, among, enemi, sci...  "
      ]
     },
     "execution_count": 20,
     "metadata": {},
     "output_type": "execute_result"
    }
   ],
   "source": [
    "df3.head()"
   ]
  },
  {
   "cell_type": "code",
   "execution_count": 17,
   "metadata": {},
   "outputs": [],
   "source": [
    "df3.to_csv(r'doc3.csv')"
   ]
  },
  {
   "cell_type": "markdown",
   "metadata": {},
   "source": [
    "## doc4\n"
   ]
  },
  {
   "cell_type": "code",
   "execution_count": 21,
   "metadata": {},
   "outputs": [
    {
     "name": "stdout",
     "output_type": "stream",
     "text": [
      "CPU times: user 9min 36s, sys: 608 ms, total: 9min 36s\n",
      "Wall time: 9min 36s\n"
     ]
    },
    {
     "name": "stderr",
     "output_type": "stream",
     "text": [
      "/home/amifaraj/anaconda3/lib/python3.7/site-packages/ipykernel_launcher.py:1: SettingWithCopyWarning: \n",
      "A value is trying to be set on a copy of a slice from a DataFrame.\n",
      "Try using .loc[row_indexer,col_indexer] = value instead\n",
      "\n",
      "See the caveats in the documentation: http://pandas.pydata.org/pandas-docs/stable/indexing.html#indexing-view-versus-copy\n",
      "  \"\"\"Entry point for launching an IPython kernel.\n"
     ]
    }
   ],
   "source": [
    "%%time\n",
    "df4['processed_content'] = df4['content'].apply(lambda row: process(row))"
   ]
  },
  {
   "cell_type": "code",
   "execution_count": 25,
   "metadata": {},
   "outputs": [
    {
     "data": {
      "text/html": [
       "<div>\n",
       "<style scoped>\n",
       "    .dataframe tbody tr th:only-of-type {\n",
       "        vertical-align: middle;\n",
       "    }\n",
       "\n",
       "    .dataframe tbody tr th {\n",
       "        vertical-align: top;\n",
       "    }\n",
       "\n",
       "    .dataframe thead th {\n",
       "        text-align: right;\n",
       "    }\n",
       "</style>\n",
       "<table border=\"1\" class=\"dataframe\">\n",
       "  <thead>\n",
       "    <tr style=\"text-align: right;\">\n",
       "      <th></th>\n",
       "      <th>content</th>\n",
       "      <th>title</th>\n",
       "      <th>id</th>\n",
       "      <th>processed_content</th>\n",
       "    </tr>\n",
       "  </thead>\n",
       "  <tbody>\n",
       "    <tr>\n",
       "      <th>665099</th>\n",
       "      <td>Friends for Lesbian, Gay, Bisexual, Transgende...</td>\n",
       "      <td>Friends for Lesbian  Gay  Bisexual  Transgende...</td>\n",
       "      <td>665100</td>\n",
       "      <td>[friend, lesbian, gay, bisexu, transgend, quee...</td>\n",
       "    </tr>\n",
       "    <tr>\n",
       "      <th>665100</th>\n",
       "      <td>Bradford Clay  Bradford Clay in geology, is a ...</td>\n",
       "      <td>Bradford Clay</td>\n",
       "      <td>665101</td>\n",
       "      <td>[bradford, clay, bradford, clay, geolog, thin,...</td>\n",
       "    </tr>\n",
       "    <tr>\n",
       "      <th>665101</th>\n",
       "      <td>Jeanne Bowser  Jeanne Bowser (born 1981 in Mon...</td>\n",
       "      <td>Jeanne Bowser</td>\n",
       "      <td>665102</td>\n",
       "      <td>[jeann, bowser, jeann, bowser, born, 1981, mon...</td>\n",
       "    </tr>\n",
       "    <tr>\n",
       "      <th>665102</th>\n",
       "      <td>Hugh Panero  Hugh Panero was the CEO of XM Sat...</td>\n",
       "      <td>Hugh Panero</td>\n",
       "      <td>665103</td>\n",
       "      <td>[hugh, panero, hugh, panero, ceo, xm, satellit...</td>\n",
       "    </tr>\n",
       "    <tr>\n",
       "      <th>665103</th>\n",
       "      <td>CityBird  CityBird was an airline founded in 1...</td>\n",
       "      <td>CityBird</td>\n",
       "      <td>665104</td>\n",
       "      <td>[citybird, citybird, airlin, found, 1996, base...</td>\n",
       "    </tr>\n",
       "  </tbody>\n",
       "</table>\n",
       "</div>"
      ],
      "text/plain": [
       "                                                  content  \\\n",
       "665099  Friends for Lesbian, Gay, Bisexual, Transgende...   \n",
       "665100  Bradford Clay  Bradford Clay in geology, is a ...   \n",
       "665101  Jeanne Bowser  Jeanne Bowser (born 1981 in Mon...   \n",
       "665102  Hugh Panero  Hugh Panero was the CEO of XM Sat...   \n",
       "665103  CityBird  CityBird was an airline founded in 1...   \n",
       "\n",
       "                                                    title      id  \\\n",
       "665099  Friends for Lesbian  Gay  Bisexual  Transgende...  665100   \n",
       "665100                                      Bradford Clay  665101   \n",
       "665101                                      Jeanne Bowser  665102   \n",
       "665102                                        Hugh Panero  665103   \n",
       "665103                                           CityBird  665104   \n",
       "\n",
       "                                        processed_content  \n",
       "665099  [friend, lesbian, gay, bisexu, transgend, quee...  \n",
       "665100  [bradford, clay, bradford, clay, geolog, thin,...  \n",
       "665101  [jeann, bowser, jeann, bowser, born, 1981, mon...  \n",
       "665102  [hugh, panero, hugh, panero, ceo, xm, satellit...  \n",
       "665103  [citybird, citybird, airlin, found, 1996, base...  "
      ]
     },
     "execution_count": 25,
     "metadata": {},
     "output_type": "execute_result"
    }
   ],
   "source": [
    "df4.tail()"
   ]
  },
  {
   "cell_type": "code",
   "execution_count": 23,
   "metadata": {},
   "outputs": [],
   "source": [
    "df4.to_csv(r'doc4.csv')"
   ]
  },
  {
   "cell_type": "markdown",
   "metadata": {},
   "source": [
    "## doc5"
   ]
  },
  {
   "cell_type": "code",
   "execution_count": 26,
   "metadata": {},
   "outputs": [
    {
     "name": "stdout",
     "output_type": "stream",
     "text": [
      "CPU times: user 8min 54s, sys: 536 ms, total: 8min 55s\n",
      "Wall time: 8min 55s\n"
     ]
    },
    {
     "name": "stderr",
     "output_type": "stream",
     "text": [
      "/home/amifaraj/anaconda3/lib/python3.7/site-packages/ipykernel_launcher.py:1: SettingWithCopyWarning: \n",
      "A value is trying to be set on a copy of a slice from a DataFrame.\n",
      "Try using .loc[row_indexer,col_indexer] = value instead\n",
      "\n",
      "See the caveats in the documentation: http://pandas.pydata.org/pandas-docs/stable/indexing.html#indexing-view-versus-copy\n",
      "  \"\"\"Entry point for launching an IPython kernel.\n"
     ]
    }
   ],
   "source": [
    "%%time\n",
    "df5['processed_content'] = df5['content'].apply(lambda row: process(row))"
   ]
  },
  {
   "cell_type": "code",
   "execution_count": 30,
   "metadata": {},
   "outputs": [
    {
     "data": {
      "text/html": [
       "<div>\n",
       "<style scoped>\n",
       "    .dataframe tbody tr th:only-of-type {\n",
       "        vertical-align: middle;\n",
       "    }\n",
       "\n",
       "    .dataframe tbody tr th {\n",
       "        vertical-align: top;\n",
       "    }\n",
       "\n",
       "    .dataframe thead th {\n",
       "        text-align: right;\n",
       "    }\n",
       "</style>\n",
       "<table border=\"1\" class=\"dataframe\">\n",
       "  <thead>\n",
       "    <tr style=\"text-align: right;\">\n",
       "      <th></th>\n",
       "      <th>content</th>\n",
       "      <th>title</th>\n",
       "      <th>id</th>\n",
       "      <th>processed_content</th>\n",
       "    </tr>\n",
       "  </thead>\n",
       "  <tbody>\n",
       "    <tr>\n",
       "      <th>831375</th>\n",
       "      <td>Grasă de Cotnari  Grasă de Cotnari () is a Rom...</td>\n",
       "      <td>Grasă de Cotnari</td>\n",
       "      <td>831376</td>\n",
       "      <td>[grasă, de, cotnari, grasă, de, cotnari, roman...</td>\n",
       "    </tr>\n",
       "    <tr>\n",
       "      <th>831376</th>\n",
       "      <td>Albert G. Porter  Albert Gallatin Porter (Apri...</td>\n",
       "      <td>Albert G  Porter</td>\n",
       "      <td>831377</td>\n",
       "      <td>[albert, g, porter, albert, gallatin, porter, ...</td>\n",
       "    </tr>\n",
       "    <tr>\n",
       "      <th>831377</th>\n",
       "      <td>Hartmann Lauterbacher  Hartmann Lauterbacher (...</td>\n",
       "      <td>Hartmann Lauterbacher</td>\n",
       "      <td>831378</td>\n",
       "      <td>[hartmann, lauterbach, hartmann, lauterbach, 2...</td>\n",
       "    </tr>\n",
       "    <tr>\n",
       "      <th>831378</th>\n",
       "      <td>Winfield T. Durbin  Winfield Taylor Durbin (Ma...</td>\n",
       "      <td>Winfield T  Durbin</td>\n",
       "      <td>831379</td>\n",
       "      <td>[winfield, durbin, winfield, taylor, durbin, m...</td>\n",
       "    </tr>\n",
       "    <tr>\n",
       "      <th>831379</th>\n",
       "      <td>Balmain Australian Football Club  Balmain Aust...</td>\n",
       "      <td>Balmain Australian Football Club</td>\n",
       "      <td>831380</td>\n",
       "      <td>[balmain, australian, footbal, club, balmain, ...</td>\n",
       "    </tr>\n",
       "  </tbody>\n",
       "</table>\n",
       "</div>"
      ],
      "text/plain": [
       "                                                  content  \\\n",
       "831375  Grasă de Cotnari  Grasă de Cotnari () is a Rom...   \n",
       "831376  Albert G. Porter  Albert Gallatin Porter (Apri...   \n",
       "831377  Hartmann Lauterbacher  Hartmann Lauterbacher (...   \n",
       "831378  Winfield T. Durbin  Winfield Taylor Durbin (Ma...   \n",
       "831379  Balmain Australian Football Club  Balmain Aust...   \n",
       "\n",
       "                                   title      id  \\\n",
       "831375                  Grasă de Cotnari  831376   \n",
       "831376                  Albert G  Porter  831377   \n",
       "831377             Hartmann Lauterbacher  831378   \n",
       "831378                Winfield T  Durbin  831379   \n",
       "831379  Balmain Australian Football Club  831380   \n",
       "\n",
       "                                        processed_content  \n",
       "831375  [grasă, de, cotnari, grasă, de, cotnari, roman...  \n",
       "831376  [albert, g, porter, albert, gallatin, porter, ...  \n",
       "831377  [hartmann, lauterbach, hartmann, lauterbach, 2...  \n",
       "831378  [winfield, durbin, winfield, taylor, durbin, m...  \n",
       "831379  [balmain, australian, footbal, club, balmain, ...  "
      ]
     },
     "execution_count": 30,
     "metadata": {},
     "output_type": "execute_result"
    }
   ],
   "source": [
    "df5.tail()"
   ]
  },
  {
   "cell_type": "code",
   "execution_count": 28,
   "metadata": {},
   "outputs": [],
   "source": [
    "df5.to_csv(r'doc5.csv')"
   ]
  },
  {
   "cell_type": "markdown",
   "metadata": {},
   "source": [
    "## doc6"
   ]
  },
  {
   "cell_type": "code",
   "execution_count": 18,
   "metadata": {},
   "outputs": [
    {
     "name": "stdout",
     "output_type": "stream",
     "text": [
      "CPU times: user 8min 6s, sys: 465 ms, total: 8min 6s\n",
      "Wall time: 8min 6s\n"
     ]
    },
    {
     "name": "stderr",
     "output_type": "stream",
     "text": [
      "/home/amifaraj/anaconda3/lib/python3.7/site-packages/ipykernel_launcher.py:1: SettingWithCopyWarning: \n",
      "A value is trying to be set on a copy of a slice from a DataFrame.\n",
      "Try using .loc[row_indexer,col_indexer] = value instead\n",
      "\n",
      "See the caveats in the documentation: http://pandas.pydata.org/pandas-docs/stable/indexing.html#indexing-view-versus-copy\n",
      "  \"\"\"Entry point for launching an IPython kernel.\n"
     ]
    }
   ],
   "source": [
    "%%time\n",
    "df6['processed_content'] = df6['content'].apply(lambda row: process(row))"
   ]
  },
  {
   "cell_type": "code",
   "execution_count": 19,
   "metadata": {},
   "outputs": [
    {
     "data": {
      "text/html": [
       "<div>\n",
       "<style scoped>\n",
       "    .dataframe tbody tr th:only-of-type {\n",
       "        vertical-align: middle;\n",
       "    }\n",
       "\n",
       "    .dataframe tbody tr th {\n",
       "        vertical-align: top;\n",
       "    }\n",
       "\n",
       "    .dataframe thead th {\n",
       "        text-align: right;\n",
       "    }\n",
       "</style>\n",
       "<table border=\"1\" class=\"dataframe\">\n",
       "  <thead>\n",
       "    <tr style=\"text-align: right;\">\n",
       "      <th></th>\n",
       "      <th>content</th>\n",
       "      <th>title</th>\n",
       "      <th>id</th>\n",
       "      <th>processed_content</th>\n",
       "    </tr>\n",
       "  </thead>\n",
       "  <tbody>\n",
       "    <tr>\n",
       "      <th>997651</th>\n",
       "      <td>DNA footprinting  DNA footprinting is a method...</td>\n",
       "      <td>DNA footprinting</td>\n",
       "      <td>997652</td>\n",
       "      <td>[dna, footprint, dna, footprint, method, inves...</td>\n",
       "    </tr>\n",
       "    <tr>\n",
       "      <th>997652</th>\n",
       "      <td>Nothing Lasts Forever (The Living End song)  \"...</td>\n",
       "      <td>Nothing Lasts Forever  The Living End song</td>\n",
       "      <td>997653</td>\n",
       "      <td>[noth, last, forev, live, end, song, noth, las...</td>\n",
       "    </tr>\n",
       "    <tr>\n",
       "      <th>997653</th>\n",
       "      <td>Ludi (comics)  Ludi is a fictional character a...</td>\n",
       "      <td>Ludi  comics</td>\n",
       "      <td>997654</td>\n",
       "      <td>[ludi, comic, ludi, fiction, charact, appear, ...</td>\n",
       "    </tr>\n",
       "    <tr>\n",
       "      <th>997654</th>\n",
       "      <td>Karns  Karns may refer to:</td>\n",
       "      <td>Karns</td>\n",
       "      <td>997655</td>\n",
       "      <td>[karn, karn, may, refer]</td>\n",
       "    </tr>\n",
       "    <tr>\n",
       "      <th>997655</th>\n",
       "      <td>Laurieton, New South Wales  Laurieton is a coa...</td>\n",
       "      <td>Laurieton  New South Wales</td>\n",
       "      <td>997656</td>\n",
       "      <td>[laurieton, new, south, wale, laurieton, coast...</td>\n",
       "    </tr>\n",
       "  </tbody>\n",
       "</table>\n",
       "</div>"
      ],
      "text/plain": [
       "                                                  content  \\\n",
       "997651  DNA footprinting  DNA footprinting is a method...   \n",
       "997652  Nothing Lasts Forever (The Living End song)  \"...   \n",
       "997653  Ludi (comics)  Ludi is a fictional character a...   \n",
       "997654                         Karns  Karns may refer to:   \n",
       "997655  Laurieton, New South Wales  Laurieton is a coa...   \n",
       "\n",
       "                                              title      id  \\\n",
       "997651                             DNA footprinting  997652   \n",
       "997652  Nothing Lasts Forever  The Living End song   997653   \n",
       "997653                                Ludi  comics   997654   \n",
       "997654                                        Karns  997655   \n",
       "997655                   Laurieton  New South Wales  997656   \n",
       "\n",
       "                                        processed_content  \n",
       "997651  [dna, footprint, dna, footprint, method, inves...  \n",
       "997652  [noth, last, forev, live, end, song, noth, las...  \n",
       "997653  [ludi, comic, ludi, fiction, charact, appear, ...  \n",
       "997654                           [karn, karn, may, refer]  \n",
       "997655  [laurieton, new, south, wale, laurieton, coast...  "
      ]
     },
     "execution_count": 19,
     "metadata": {},
     "output_type": "execute_result"
    }
   ],
   "source": [
    "df6.tail()"
   ]
  },
  {
   "cell_type": "code",
   "execution_count": 20,
   "metadata": {},
   "outputs": [],
   "source": [
    "df6.to_csv(r'doc6.csv')"
   ]
  },
  {
   "cell_type": "markdown",
   "metadata": {},
   "source": [
    "## doc7\n"
   ]
  },
  {
   "cell_type": "code",
   "execution_count": 22,
   "metadata": {},
   "outputs": [
    {
     "name": "stdout",
     "output_type": "stream",
     "text": [
      "CPU times: user 7min 10s, sys: 428 ms, total: 7min 10s\n",
      "Wall time: 7min 10s\n"
     ]
    },
    {
     "name": "stderr",
     "output_type": "stream",
     "text": [
      "/home/amifaraj/anaconda3/lib/python3.7/site-packages/ipykernel_launcher.py:1: SettingWithCopyWarning: \n",
      "A value is trying to be set on a copy of a slice from a DataFrame.\n",
      "Try using .loc[row_indexer,col_indexer] = value instead\n",
      "\n",
      "See the caveats in the documentation: http://pandas.pydata.org/pandas-docs/stable/indexing.html#indexing-view-versus-copy\n",
      "  \"\"\"Entry point for launching an IPython kernel.\n"
     ]
    }
   ],
   "source": [
    "%%time\n",
    "df7['processed_content'] = df7['content'].apply(lambda row: process(row))"
   ]
  },
  {
   "cell_type": "code",
   "execution_count": 23,
   "metadata": {},
   "outputs": [
    {
     "data": {
      "text/html": [
       "<div>\n",
       "<style scoped>\n",
       "    .dataframe tbody tr th:only-of-type {\n",
       "        vertical-align: middle;\n",
       "    }\n",
       "\n",
       "    .dataframe tbody tr th {\n",
       "        vertical-align: top;\n",
       "    }\n",
       "\n",
       "    .dataframe thead th {\n",
       "        text-align: right;\n",
       "    }\n",
       "</style>\n",
       "<table border=\"1\" class=\"dataframe\">\n",
       "  <thead>\n",
       "    <tr style=\"text-align: right;\">\n",
       "      <th></th>\n",
       "      <th>content</th>\n",
       "      <th>title</th>\n",
       "      <th>id</th>\n",
       "      <th>processed_content</th>\n",
       "    </tr>\n",
       "  </thead>\n",
       "  <tbody>\n",
       "    <tr>\n",
       "      <th>1163927</th>\n",
       "      <td>Randy Hultgren  Randall Mark Hultgren (born Ma...</td>\n",
       "      <td>Randy Hultgren</td>\n",
       "      <td>1163928</td>\n",
       "      <td>[randi, hultgren, randal, mark, hultgren, born...</td>\n",
       "    </tr>\n",
       "    <tr>\n",
       "      <th>1163928</th>\n",
       "      <td>Clarence Newton  Clarence \"Chris\" Newton (Febr...</td>\n",
       "      <td>Clarence Newton</td>\n",
       "      <td>1163929</td>\n",
       "      <td>[clarenc, newton, clarenc, chri, newton, febru...</td>\n",
       "    </tr>\n",
       "    <tr>\n",
       "      <th>1163929</th>\n",
       "      <td>Volume 2 (Reagan Youth album)  Volume 2 is the...</td>\n",
       "      <td>Volume 2  Reagan Youth album</td>\n",
       "      <td>1163930</td>\n",
       "      <td>[volum, 2, reagan, youth, album, volum, 2, sec...</td>\n",
       "    </tr>\n",
       "    <tr>\n",
       "      <th>1163930</th>\n",
       "      <td>Kalpana Ramesh Narhire  Narhire Kalpana Ramesh...</td>\n",
       "      <td>Kalpana Ramesh Narhire</td>\n",
       "      <td>1163931</td>\n",
       "      <td>[kalpana, ramesh, narhir, narhir, kalpana, ram...</td>\n",
       "    </tr>\n",
       "    <tr>\n",
       "      <th>1163931</th>\n",
       "      <td>Champéry  Champéry is a municipality in the di...</td>\n",
       "      <td>Champéry</td>\n",
       "      <td>1163932</td>\n",
       "      <td>[champéri, champéri, municip, district, monthe...</td>\n",
       "    </tr>\n",
       "  </tbody>\n",
       "</table>\n",
       "</div>"
      ],
      "text/plain": [
       "                                                   content  \\\n",
       "1163927  Randy Hultgren  Randall Mark Hultgren (born Ma...   \n",
       "1163928  Clarence Newton  Clarence \"Chris\" Newton (Febr...   \n",
       "1163929  Volume 2 (Reagan Youth album)  Volume 2 is the...   \n",
       "1163930  Kalpana Ramesh Narhire  Narhire Kalpana Ramesh...   \n",
       "1163931  Champéry  Champéry is a municipality in the di...   \n",
       "\n",
       "                                 title       id  \\\n",
       "1163927                 Randy Hultgren  1163928   \n",
       "1163928                Clarence Newton  1163929   \n",
       "1163929  Volume 2  Reagan Youth album   1163930   \n",
       "1163930         Kalpana Ramesh Narhire  1163931   \n",
       "1163931                       Champéry  1163932   \n",
       "\n",
       "                                         processed_content  \n",
       "1163927  [randi, hultgren, randal, mark, hultgren, born...  \n",
       "1163928  [clarenc, newton, clarenc, chri, newton, febru...  \n",
       "1163929  [volum, 2, reagan, youth, album, volum, 2, sec...  \n",
       "1163930  [kalpana, ramesh, narhir, narhir, kalpana, ram...  \n",
       "1163931  [champéri, champéri, municip, district, monthe...  "
      ]
     },
     "execution_count": 23,
     "metadata": {},
     "output_type": "execute_result"
    }
   ],
   "source": [
    "df7.tail()"
   ]
  },
  {
   "cell_type": "code",
   "execution_count": 24,
   "metadata": {},
   "outputs": [],
   "source": [
    "df7.to_csv(r'doc7.csv')"
   ]
  },
  {
   "cell_type": "markdown",
   "metadata": {},
   "source": [
    "## doc8"
   ]
  },
  {
   "cell_type": "code",
   "execution_count": 27,
   "metadata": {},
   "outputs": [
    {
     "name": "stdout",
     "output_type": "stream",
     "text": [
      "CPU times: user 6min 43s, sys: 456 ms, total: 6min 44s\n",
      "Wall time: 6min 43s\n"
     ]
    },
    {
     "name": "stderr",
     "output_type": "stream",
     "text": [
      "/home/amifaraj/anaconda3/lib/python3.7/site-packages/ipykernel_launcher.py:1: SettingWithCopyWarning: \n",
      "A value is trying to be set on a copy of a slice from a DataFrame.\n",
      "Try using .loc[row_indexer,col_indexer] = value instead\n",
      "\n",
      "See the caveats in the documentation: http://pandas.pydata.org/pandas-docs/stable/indexing.html#indexing-view-versus-copy\n",
      "  \"\"\"Entry point for launching an IPython kernel.\n"
     ]
    }
   ],
   "source": [
    "%%time\n",
    "df8['processed_content'] = df8['content'].apply(lambda row: process(row))"
   ]
  },
  {
   "cell_type": "code",
   "execution_count": 28,
   "metadata": {},
   "outputs": [
    {
     "data": {
      "text/html": [
       "<div>\n",
       "<style scoped>\n",
       "    .dataframe tbody tr th:only-of-type {\n",
       "        vertical-align: middle;\n",
       "    }\n",
       "\n",
       "    .dataframe tbody tr th {\n",
       "        vertical-align: top;\n",
       "    }\n",
       "\n",
       "    .dataframe thead th {\n",
       "        text-align: right;\n",
       "    }\n",
       "</style>\n",
       "<table border=\"1\" class=\"dataframe\">\n",
       "  <thead>\n",
       "    <tr style=\"text-align: right;\">\n",
       "      <th></th>\n",
       "      <th>content</th>\n",
       "      <th>title</th>\n",
       "      <th>id</th>\n",
       "      <th>processed_content</th>\n",
       "    </tr>\n",
       "  </thead>\n",
       "  <tbody>\n",
       "    <tr>\n",
       "      <th>1330203</th>\n",
       "      <td>1967 Academy Awards  1967 Academy Awards may r...</td>\n",
       "      <td>1967 Academy Awards</td>\n",
       "      <td>1330204</td>\n",
       "      <td>[1967, academi, award, 1967, academi, award, m...</td>\n",
       "    </tr>\n",
       "    <tr>\n",
       "      <th>1330204</th>\n",
       "      <td>1966 Academy Awards  1966 Academy Awards may r...</td>\n",
       "      <td>1966 Academy Awards</td>\n",
       "      <td>1330205</td>\n",
       "      <td>[1966, academi, award, 1966, academi, award, m...</td>\n",
       "    </tr>\n",
       "    <tr>\n",
       "      <th>1330205</th>\n",
       "      <td>1989 Alpine Skiing World Cup – Women's Giant S...</td>\n",
       "      <td>1989 Alpine Skiing World Cup – Women s Giant S...</td>\n",
       "      <td>1330206</td>\n",
       "      <td>[1989, alpin, ski, world, cup, women, giant, s...</td>\n",
       "    </tr>\n",
       "    <tr>\n",
       "      <th>1330206</th>\n",
       "      <td>1965 Academy Awards  1965 Academy Awards may r...</td>\n",
       "      <td>1965 Academy Awards</td>\n",
       "      <td>1330207</td>\n",
       "      <td>[1965, academi, award, 1965, academi, award, m...</td>\n",
       "    </tr>\n",
       "    <tr>\n",
       "      <th>1330207</th>\n",
       "      <td>Spin kit  A spin kit is a kit for a sailplane ...</td>\n",
       "      <td>Spin kit</td>\n",
       "      <td>1330208</td>\n",
       "      <td>[spin, kit, spin, kit, kit, sailplan, make, sp...</td>\n",
       "    </tr>\n",
       "  </tbody>\n",
       "</table>\n",
       "</div>"
      ],
      "text/plain": [
       "                                                   content  \\\n",
       "1330203  1967 Academy Awards  1967 Academy Awards may r...   \n",
       "1330204  1966 Academy Awards  1966 Academy Awards may r...   \n",
       "1330205  1989 Alpine Skiing World Cup – Women's Giant S...   \n",
       "1330206  1965 Academy Awards  1965 Academy Awards may r...   \n",
       "1330207  Spin kit  A spin kit is a kit for a sailplane ...   \n",
       "\n",
       "                                                     title       id  \\\n",
       "1330203                                1967 Academy Awards  1330204   \n",
       "1330204                                1966 Academy Awards  1330205   \n",
       "1330205  1989 Alpine Skiing World Cup – Women s Giant S...  1330206   \n",
       "1330206                                1965 Academy Awards  1330207   \n",
       "1330207                                           Spin kit  1330208   \n",
       "\n",
       "                                         processed_content  \n",
       "1330203  [1967, academi, award, 1967, academi, award, m...  \n",
       "1330204  [1966, academi, award, 1966, academi, award, m...  \n",
       "1330205  [1989, alpin, ski, world, cup, women, giant, s...  \n",
       "1330206  [1965, academi, award, 1965, academi, award, m...  \n",
       "1330207  [spin, kit, spin, kit, kit, sailplan, make, sp...  "
      ]
     },
     "execution_count": 28,
     "metadata": {},
     "output_type": "execute_result"
    }
   ],
   "source": [
    "df8.tail()"
   ]
  },
  {
   "cell_type": "code",
   "execution_count": 29,
   "metadata": {},
   "outputs": [],
   "source": [
    "df8.to_csv(r'doc8.csv')"
   ]
  },
  {
   "cell_type": "markdown",
   "metadata": {},
   "source": [
    "## doc9"
   ]
  },
  {
   "cell_type": "code",
   "execution_count": 32,
   "metadata": {},
   "outputs": [
    {
     "name": "stdout",
     "output_type": "stream",
     "text": [
      "CPU times: user 6min 15s, sys: 440 ms, total: 6min 16s\n",
      "Wall time: 6min 16s\n"
     ]
    },
    {
     "name": "stderr",
     "output_type": "stream",
     "text": [
      "/home/amifaraj/anaconda3/lib/python3.7/site-packages/ipykernel_launcher.py:1: SettingWithCopyWarning: \n",
      "A value is trying to be set on a copy of a slice from a DataFrame.\n",
      "Try using .loc[row_indexer,col_indexer] = value instead\n",
      "\n",
      "See the caveats in the documentation: http://pandas.pydata.org/pandas-docs/stable/indexing.html#indexing-view-versus-copy\n",
      "  \"\"\"Entry point for launching an IPython kernel.\n"
     ]
    }
   ],
   "source": [
    "%%time\n",
    "df9['processed_content'] = df9['content'].apply(lambda row: process(row))"
   ]
  },
  {
   "cell_type": "code",
   "execution_count": 33,
   "metadata": {},
   "outputs": [
    {
     "data": {
      "text/html": [
       "<div>\n",
       "<style scoped>\n",
       "    .dataframe tbody tr th:only-of-type {\n",
       "        vertical-align: middle;\n",
       "    }\n",
       "\n",
       "    .dataframe tbody tr th {\n",
       "        vertical-align: top;\n",
       "    }\n",
       "\n",
       "    .dataframe thead th {\n",
       "        text-align: right;\n",
       "    }\n",
       "</style>\n",
       "<table border=\"1\" class=\"dataframe\">\n",
       "  <thead>\n",
       "    <tr style=\"text-align: right;\">\n",
       "      <th></th>\n",
       "      <th>content</th>\n",
       "      <th>title</th>\n",
       "      <th>id</th>\n",
       "      <th>processed_content</th>\n",
       "    </tr>\n",
       "  </thead>\n",
       "  <tbody>\n",
       "    <tr>\n",
       "      <th>1496479</th>\n",
       "      <td>Gale–Church alignment algorithm  In computatio...</td>\n",
       "      <td>Gale–Church alignment algorithm</td>\n",
       "      <td>1496480</td>\n",
       "      <td>[gale, church, align, algorithm, comput, lingu...</td>\n",
       "    </tr>\n",
       "    <tr>\n",
       "      <th>1496480</th>\n",
       "      <td>Crystal Gazing Luck Amazing  Crystal Gazing Lu...</td>\n",
       "      <td>Crystal Gazing Luck Amazing</td>\n",
       "      <td>1496481</td>\n",
       "      <td>[crystal, gaze, luck, amaz, crystal, gaze, luc...</td>\n",
       "    </tr>\n",
       "    <tr>\n",
       "      <th>1496481</th>\n",
       "      <td>Fifth Aliyah  The Fifth Aliyah (, \"HaAliyah Ha...</td>\n",
       "      <td>Fifth Aliyah</td>\n",
       "      <td>1496482</td>\n",
       "      <td>[fifth, aliyah, fifth, aliyah, haaliyah, haham...</td>\n",
       "    </tr>\n",
       "    <tr>\n",
       "      <th>1496482</th>\n",
       "      <td>Denys Whitehorn Reid  Denys Whitehorn Reid CB,...</td>\n",
       "      <td>Denys Whitehorn Reid</td>\n",
       "      <td>1496483</td>\n",
       "      <td>[deni, whitehorn, reid, deni, whitehorn, reid,...</td>\n",
       "    </tr>\n",
       "    <tr>\n",
       "      <th>1496483</th>\n",
       "      <td>The Myrtle Beach Herald  The Myrtle Beach Hera...</td>\n",
       "      <td>The Myrtle Beach Herald</td>\n",
       "      <td>1496484</td>\n",
       "      <td>[myrtl, beach, herald, myrtl, beach, herald, w...</td>\n",
       "    </tr>\n",
       "  </tbody>\n",
       "</table>\n",
       "</div>"
      ],
      "text/plain": [
       "                                                   content  \\\n",
       "1496479  Gale–Church alignment algorithm  In computatio...   \n",
       "1496480  Crystal Gazing Luck Amazing  Crystal Gazing Lu...   \n",
       "1496481  Fifth Aliyah  The Fifth Aliyah (, \"HaAliyah Ha...   \n",
       "1496482  Denys Whitehorn Reid  Denys Whitehorn Reid CB,...   \n",
       "1496483  The Myrtle Beach Herald  The Myrtle Beach Hera...   \n",
       "\n",
       "                                   title       id  \\\n",
       "1496479  Gale–Church alignment algorithm  1496480   \n",
       "1496480      Crystal Gazing Luck Amazing  1496481   \n",
       "1496481                     Fifth Aliyah  1496482   \n",
       "1496482             Denys Whitehorn Reid  1496483   \n",
       "1496483          The Myrtle Beach Herald  1496484   \n",
       "\n",
       "                                         processed_content  \n",
       "1496479  [gale, church, align, algorithm, comput, lingu...  \n",
       "1496480  [crystal, gaze, luck, amaz, crystal, gaze, luc...  \n",
       "1496481  [fifth, aliyah, fifth, aliyah, haaliyah, haham...  \n",
       "1496482  [deni, whitehorn, reid, deni, whitehorn, reid,...  \n",
       "1496483  [myrtl, beach, herald, myrtl, beach, herald, w...  "
      ]
     },
     "execution_count": 33,
     "metadata": {},
     "output_type": "execute_result"
    }
   ],
   "source": [
    "df9.tail()"
   ]
  },
  {
   "cell_type": "code",
   "execution_count": 34,
   "metadata": {},
   "outputs": [],
   "source": [
    "df9.to_csv(r'doc9.csv')"
   ]
  },
  {
   "cell_type": "markdown",
   "metadata": {},
   "source": [
    "## doc10"
   ]
  },
  {
   "cell_type": "code",
   "execution_count": 37,
   "metadata": {},
   "outputs": [
    {
     "name": "stdout",
     "output_type": "stream",
     "text": [
      "CPU times: user 5min 5s, sys: 348 ms, total: 5min 6s\n",
      "Wall time: 5min 6s\n"
     ]
    },
    {
     "name": "stderr",
     "output_type": "stream",
     "text": [
      "/home/amifaraj/anaconda3/lib/python3.7/site-packages/ipykernel_launcher.py:1: SettingWithCopyWarning: \n",
      "A value is trying to be set on a copy of a slice from a DataFrame.\n",
      "Try using .loc[row_indexer,col_indexer] = value instead\n",
      "\n",
      "See the caveats in the documentation: http://pandas.pydata.org/pandas-docs/stable/indexing.html#indexing-view-versus-copy\n",
      "  \"\"\"Entry point for launching an IPython kernel.\n"
     ]
    }
   ],
   "source": [
    "%%time\n",
    "df10['processed_content'] = df10['content'].apply(lambda row: process(row))"
   ]
  },
  {
   "cell_type": "code",
   "execution_count": 38,
   "metadata": {},
   "outputs": [
    {
     "data": {
      "text/html": [
       "<div>\n",
       "<style scoped>\n",
       "    .dataframe tbody tr th:only-of-type {\n",
       "        vertical-align: middle;\n",
       "    }\n",
       "\n",
       "    .dataframe tbody tr th {\n",
       "        vertical-align: top;\n",
       "    }\n",
       "\n",
       "    .dataframe thead th {\n",
       "        text-align: right;\n",
       "    }\n",
       "</style>\n",
       "<table border=\"1\" class=\"dataframe\">\n",
       "  <thead>\n",
       "    <tr style=\"text-align: right;\">\n",
       "      <th></th>\n",
       "      <th>content</th>\n",
       "      <th>title</th>\n",
       "      <th>id</th>\n",
       "      <th>processed_content</th>\n",
       "    </tr>\n",
       "  </thead>\n",
       "  <tbody>\n",
       "    <tr>\n",
       "      <th>1662751</th>\n",
       "      <td>Toppr  Toppr is a product of Haygot Education ...</td>\n",
       "      <td>Toppr</td>\n",
       "      <td>1662752</td>\n",
       "      <td>[toppr, toppr, product, haygot, educ, privat, ...</td>\n",
       "    </tr>\n",
       "    <tr>\n",
       "      <th>1662752</th>\n",
       "      <td>Outline of education  The following outline is...</td>\n",
       "      <td>Outline of education</td>\n",
       "      <td>1662753</td>\n",
       "      <td>[outlin, educ, follow, outlin, provid, overvie...</td>\n",
       "    </tr>\n",
       "    <tr>\n",
       "      <th>1662753</th>\n",
       "      <td>Raell Padamsee  Raell Padamsee is an Indian th...</td>\n",
       "      <td>Raell Padamsee</td>\n",
       "      <td>1662754</td>\n",
       "      <td>[raell, padamse, raell, padamse, indian, theat...</td>\n",
       "    </tr>\n",
       "    <tr>\n",
       "      <th>1662754</th>\n",
       "      <td>Megan Callaway  Megan Callaway is a founder of...</td>\n",
       "      <td>Megan Callaway</td>\n",
       "      <td>1662755</td>\n",
       "      <td>[megan, callaway, megan, callaway, founder, ar...</td>\n",
       "    </tr>\n",
       "    <tr>\n",
       "      <th>1662755</th>\n",
       "      <td>Diane Reay  Diane Reay is a sociologist and pr...</td>\n",
       "      <td>Diane Reay</td>\n",
       "      <td>1662756</td>\n",
       "      <td>[dian, reay, dian, reay, sociologist, professo...</td>\n",
       "    </tr>\n",
       "  </tbody>\n",
       "</table>\n",
       "</div>"
      ],
      "text/plain": [
       "                                                   content  \\\n",
       "1662751  Toppr  Toppr is a product of Haygot Education ...   \n",
       "1662752  Outline of education  The following outline is...   \n",
       "1662753  Raell Padamsee  Raell Padamsee is an Indian th...   \n",
       "1662754  Megan Callaway  Megan Callaway is a founder of...   \n",
       "1662755  Diane Reay  Diane Reay is a sociologist and pr...   \n",
       "\n",
       "                        title       id  \\\n",
       "1662751                 Toppr  1662752   \n",
       "1662752  Outline of education  1662753   \n",
       "1662753        Raell Padamsee  1662754   \n",
       "1662754        Megan Callaway  1662755   \n",
       "1662755            Diane Reay  1662756   \n",
       "\n",
       "                                         processed_content  \n",
       "1662751  [toppr, toppr, product, haygot, educ, privat, ...  \n",
       "1662752  [outlin, educ, follow, outlin, provid, overvie...  \n",
       "1662753  [raell, padamse, raell, padamse, indian, theat...  \n",
       "1662754  [megan, callaway, megan, callaway, founder, ar...  \n",
       "1662755  [dian, reay, dian, reay, sociologist, professo...  "
      ]
     },
     "execution_count": 38,
     "metadata": {},
     "output_type": "execute_result"
    }
   ],
   "source": [
    "df10.tail()"
   ]
  },
  {
   "cell_type": "code",
   "execution_count": 39,
   "metadata": {},
   "outputs": [],
   "source": [
    "df10.to_csv(r'doc10.csv')"
   ]
  },
  {
   "cell_type": "markdown",
   "metadata": {},
   "source": [
    "## Final"
   ]
  },
  {
   "cell_type": "code",
   "execution_count": 28,
   "metadata": {},
   "outputs": [
    {
     "data": {
      "text/html": [
       "<div>\n",
       "<style scoped>\n",
       "    .dataframe tbody tr th:only-of-type {\n",
       "        vertical-align: middle;\n",
       "    }\n",
       "\n",
       "    .dataframe tbody tr th {\n",
       "        vertical-align: top;\n",
       "    }\n",
       "\n",
       "    .dataframe thead th {\n",
       "        text-align: right;\n",
       "    }\n",
       "</style>\n",
       "<table border=\"1\" class=\"dataframe\">\n",
       "  <thead>\n",
       "    <tr style=\"text-align: right;\">\n",
       "      <th></th>\n",
       "      <th>content</th>\n",
       "      <th>title</th>\n",
       "      <th>id</th>\n",
       "    </tr>\n",
       "  </thead>\n",
       "  <tbody>\n",
       "    <tr>\n",
       "      <th>0</th>\n",
       "      <td>Morocco–Saudi Arabia relations  Moroccan–Saudi...</td>\n",
       "      <td>Morocco–Saudi Arabia relations</td>\n",
       "      <td>1</td>\n",
       "    </tr>\n",
       "    <tr>\n",
       "      <th>1</th>\n",
       "      <td>Anthony United States Post Office  The Anthony...</td>\n",
       "      <td>Anthony United States Post Office</td>\n",
       "      <td>2</td>\n",
       "    </tr>\n",
       "    <tr>\n",
       "      <th>2</th>\n",
       "      <td>Dumraon (Vidhan Sabha constituency)  Dumraon V...</td>\n",
       "      <td>Dumraon  Vidhan Sabha constituency</td>\n",
       "      <td>3</td>\n",
       "    </tr>\n",
       "    <tr>\n",
       "      <th>3</th>\n",
       "      <td>Chaker Khazaal  Chaker Khazaal (born 28 Septem...</td>\n",
       "      <td>Chaker Khazaal</td>\n",
       "      <td>4</td>\n",
       "    </tr>\n",
       "    <tr>\n",
       "      <th>4</th>\n",
       "      <td>Vicente Pascual Pastor  Vicente Pascual Pastor...</td>\n",
       "      <td>Vicente Pascual Pastor</td>\n",
       "      <td>5</td>\n",
       "    </tr>\n",
       "  </tbody>\n",
       "</table>\n",
       "</div>"
      ],
      "text/plain": [
       "                                             content  \\\n",
       "0  Morocco–Saudi Arabia relations  Moroccan–Saudi...   \n",
       "1  Anthony United States Post Office  The Anthony...   \n",
       "2  Dumraon (Vidhan Sabha constituency)  Dumraon V...   \n",
       "3  Chaker Khazaal  Chaker Khazaal (born 28 Septem...   \n",
       "4  Vicente Pascual Pastor  Vicente Pascual Pastor...   \n",
       "\n",
       "                                 title id  \n",
       "0       Morocco–Saudi Arabia relations  1  \n",
       "1    Anthony United States Post Office  2  \n",
       "2  Dumraon  Vidhan Sabha constituency   3  \n",
       "3                       Chaker Khazaal  4  \n",
       "4               Vicente Pascual Pastor  5  "
      ]
     },
     "execution_count": 28,
     "metadata": {},
     "output_type": "execute_result"
    }
   ],
   "source": [
    "docs.head()"
   ]
  },
  {
   "cell_type": "code",
   "execution_count": 10,
   "metadata": {},
   "outputs": [],
   "source": [
    "#df1 = pd.read_csv('doc1.csv', delimiter=',',encoding='utf-8')\n",
    "#df2 = pd.read_csv('doc2.csv', delimiter=',',encoding='utf-8')\n",
    "#df3 = pd.read_csv('doc3.csv', delimiter=',',encoding='utf-8')\n",
    "#df4 = pd.read_csv('doc4.csv', delimiter=',',encoding='utf-8')\n",
    "#df5 = pd.read_csv('doc5.csv', delimiter=',',encoding='utf-8')\n",
    "#df6 = pd.read_csv('doc6.csv', delimiter=',',encoding='utf-8')\n",
    "#df7 = pd.read_csv('doc7.csv', delimiter=',',encoding='utf-8')\n",
    "#df8 = pd.read_csv('doc8.csv', delimiter=',',encoding='utf-8')\n",
    "df9 = pd.read_csv('doc9.csv', delimiter=',',encoding='utf-8')\n",
    "df10 = pd.read_csv('doc10.csv', delimiter=',',encoding='utf-8')"
   ]
  },
  {
   "cell_type": "code",
   "execution_count": 23,
   "metadata": {},
   "outputs": [
    {
     "data": {
      "text/plain": [
       "(1662756, 5)"
      ]
     },
     "execution_count": 23,
     "metadata": {},
     "output_type": "execute_result"
    }
   ],
   "source": [
    "merge_all = [df1, df2, df3, df4, df5, df6, df7, df8, df9, df10]\n",
    "final_processed = pd.concat(merge_all, ignore_index=True)\n",
    "final_processed.shape"
   ]
  },
  {
   "cell_type": "code",
   "execution_count": 27,
   "metadata": {},
   "outputs": [],
   "source": [
    "final_processed = final_processed.drop(columns=['Unnamed: 0'])"
   ]
  },
  {
   "cell_type": "code",
   "execution_count": 28,
   "metadata": {},
   "outputs": [
    {
     "data": {
      "text/html": [
       "<div>\n",
       "<style scoped>\n",
       "    .dataframe tbody tr th:only-of-type {\n",
       "        vertical-align: middle;\n",
       "    }\n",
       "\n",
       "    .dataframe tbody tr th {\n",
       "        vertical-align: top;\n",
       "    }\n",
       "\n",
       "    .dataframe thead th {\n",
       "        text-align: right;\n",
       "    }\n",
       "</style>\n",
       "<table border=\"1\" class=\"dataframe\">\n",
       "  <thead>\n",
       "    <tr style=\"text-align: right;\">\n",
       "      <th></th>\n",
       "      <th>content</th>\n",
       "      <th>title</th>\n",
       "      <th>id</th>\n",
       "    </tr>\n",
       "  </thead>\n",
       "  <tbody>\n",
       "    <tr>\n",
       "      <th>0</th>\n",
       "      <td>Morocco–Saudi Arabia relations\\n\\nMoroccan–Sau...</td>\n",
       "      <td>Morocco–Saudi_Arabia_relations</td>\n",
       "      <td>1</td>\n",
       "    </tr>\n",
       "    <tr>\n",
       "      <th>1</th>\n",
       "      <td>Anthony United States Post Office\\n\\nThe Antho...</td>\n",
       "      <td>Anthony_United_States_Post_Office</td>\n",
       "      <td>2</td>\n",
       "    </tr>\n",
       "    <tr>\n",
       "      <th>2</th>\n",
       "      <td>Dumraon (Vidhan Sabha constituency)\\n\\nDumraon...</td>\n",
       "      <td>Dumraon__Vidhan_Sabha_constituency_</td>\n",
       "      <td>3</td>\n",
       "    </tr>\n",
       "    <tr>\n",
       "      <th>3</th>\n",
       "      <td>Chaker Khazaal\\n\\nChaker Khazaal (born 28 Sept...</td>\n",
       "      <td>Chaker_Khazaal</td>\n",
       "      <td>4</td>\n",
       "    </tr>\n",
       "    <tr>\n",
       "      <th>4</th>\n",
       "      <td>Vicente Pascual Pastor\\n\\nVicente Pascual Past...</td>\n",
       "      <td>Vicente_Pascual_Pastor</td>\n",
       "      <td>5</td>\n",
       "    </tr>\n",
       "  </tbody>\n",
       "</table>\n",
       "</div>"
      ],
      "text/plain": [
       "                                             content  \\\n",
       "0  Morocco–Saudi Arabia relations\\n\\nMoroccan–Sau...   \n",
       "1  Anthony United States Post Office\\n\\nThe Antho...   \n",
       "2  Dumraon (Vidhan Sabha constituency)\\n\\nDumraon...   \n",
       "3  Chaker Khazaal\\n\\nChaker Khazaal (born 28 Sept...   \n",
       "4  Vicente Pascual Pastor\\n\\nVicente Pascual Past...   \n",
       "\n",
       "                                 title  id  \n",
       "0       Morocco–Saudi_Arabia_relations   1  \n",
       "1    Anthony_United_States_Post_Office   2  \n",
       "2  Dumraon__Vidhan_Sabha_constituency_   3  \n",
       "3                       Chaker_Khazaal   4  \n",
       "4               Vicente_Pascual_Pastor   5  "
      ]
     },
     "execution_count": 28,
     "metadata": {},
     "output_type": "execute_result"
    }
   ],
   "source": [
    "docs.head()"
   ]
  },
  {
   "cell_type": "code",
   "execution_count": 30,
   "metadata": {},
   "outputs": [],
   "source": [
    "final_processed.to_csv(r'Final_proc.csv')\n",
    "#final_processed.head()"
   ]
  },
  {
   "cell_type": "markdown",
   "metadata": {},
   "source": [
    "#### little bit data"
   ]
  },
  {
   "cell_type": "code",
   "execution_count": 42,
   "metadata": {},
   "outputs": [
    {
     "name": "stdout",
     "output_type": "stream",
     "text": [
      "CPU times: user 9min 24s, sys: 594 ms, total: 9min 25s\n",
      "Wall time: 9min 25s\n"
     ]
    }
   ],
   "source": [
    "%%time\n",
    "docs_sample['processed_content'] = docs_sample['content'].apply(lambda row: process(row))\n",
    "docs_sample.head()"
   ]
  },
  {
   "cell_type": "code",
   "execution_count": 43,
   "metadata": {},
   "outputs": [
    {
     "data": {
      "text/html": [
       "<div>\n",
       "<style scoped>\n",
       "    .dataframe tbody tr th:only-of-type {\n",
       "        vertical-align: middle;\n",
       "    }\n",
       "\n",
       "    .dataframe tbody tr th {\n",
       "        vertical-align: top;\n",
       "    }\n",
       "\n",
       "    .dataframe thead th {\n",
       "        text-align: right;\n",
       "    }\n",
       "</style>\n",
       "<table border=\"1\" class=\"dataframe\">\n",
       "  <thead>\n",
       "    <tr style=\"text-align: right;\">\n",
       "      <th></th>\n",
       "      <th>content</th>\n",
       "      <th>title</th>\n",
       "      <th>id</th>\n",
       "      <th>processed_content</th>\n",
       "    </tr>\n",
       "  </thead>\n",
       "  <tbody>\n",
       "    <tr>\n",
       "      <th>913291</th>\n",
       "      <td>Lee E. Emerson  Lee Earl Emerson (December 19,...</td>\n",
       "      <td>Lee E  Emerson</td>\n",
       "      <td>913292</td>\n",
       "      <td>[lee, e, emerson, lee, earl, emerson, decemb, ...</td>\n",
       "    </tr>\n",
       "    <tr>\n",
       "      <th>654631</th>\n",
       "      <td>CovertAction Quarterly  CovertAction Quarterly...</td>\n",
       "      <td>CovertAction Quarterly</td>\n",
       "      <td>654632</td>\n",
       "      <td>[covertact, quarterli, covertact, quarterli, n...</td>\n",
       "    </tr>\n",
       "    <tr>\n",
       "      <th>1111800</th>\n",
       "      <td>Pietrabruna  Pietrabruna is a \"comune\" (munici...</td>\n",
       "      <td>Pietrabruna</td>\n",
       "      <td>1111801</td>\n",
       "      <td>[pietrabruna, pietrabruna, comun, municip, pro...</td>\n",
       "    </tr>\n",
       "    <tr>\n",
       "      <th>1145240</th>\n",
       "      <td>2006 in Luxembourg  The following lists events...</td>\n",
       "      <td>2006 in Luxembourg</td>\n",
       "      <td>1145241</td>\n",
       "      <td>[2006, luxembourg, follow, list, event, happen...</td>\n",
       "    </tr>\n",
       "    <tr>\n",
       "      <th>794694</th>\n",
       "      <td>Duvbo  Duvbo is an upper-middle-class resident...</td>\n",
       "      <td>Duvbo</td>\n",
       "      <td>794695</td>\n",
       "      <td>[duvbo, duvbo, upper, middl, class, residenti,...</td>\n",
       "    </tr>\n",
       "  </tbody>\n",
       "</table>\n",
       "</div>"
      ],
      "text/plain": [
       "                                                   content  \\\n",
       "913291   Lee E. Emerson  Lee Earl Emerson (December 19,...   \n",
       "654631   CovertAction Quarterly  CovertAction Quarterly...   \n",
       "1111800  Pietrabruna  Pietrabruna is a \"comune\" (munici...   \n",
       "1145240  2006 in Luxembourg  The following lists events...   \n",
       "794694   Duvbo  Duvbo is an upper-middle-class resident...   \n",
       "\n",
       "                          title       id  \\\n",
       "913291           Lee E  Emerson   913292   \n",
       "654631   CovertAction Quarterly   654632   \n",
       "1111800             Pietrabruna  1111801   \n",
       "1145240      2006 in Luxembourg  1145241   \n",
       "794694                    Duvbo   794695   \n",
       "\n",
       "                                         processed_content  \n",
       "913291   [lee, e, emerson, lee, earl, emerson, decemb, ...  \n",
       "654631   [covertact, quarterli, covertact, quarterli, n...  \n",
       "1111800  [pietrabruna, pietrabruna, comun, municip, pro...  \n",
       "1145240  [2006, luxembourg, follow, list, event, happen...  \n",
       "794694   [duvbo, duvbo, upper, middl, class, residenti,...  "
      ]
     },
     "execution_count": 43,
     "metadata": {},
     "output_type": "execute_result"
    }
   ],
   "source": [
    "docs_sample.head()"
   ]
  },
  {
   "cell_type": "markdown",
   "metadata": {},
   "source": [
    "#### all the data"
   ]
  },
  {
   "cell_type": "code",
   "execution_count": null,
   "metadata": {},
   "outputs": [],
   "source": [
    "%%time\n",
    "docs['processed_content'] = docs['content'].apply(lambda row: process(row))\n",
    "docs.head()"
   ]
  },
  {
   "cell_type": "markdown",
   "metadata": {},
   "source": [
    "## spelling"
   ]
  },
  {
   "cell_type": "code",
   "execution_count": 29,
   "metadata": {},
   "outputs": [],
   "source": [
    "from autocorrect import spell"
   ]
  },
  {
   "cell_type": "code",
   "execution_count": 35,
   "metadata": {},
   "outputs": [
    {
     "name": "stdout",
     "output_type": "stream",
     "text": [
      "autocorrect.spell is deprecated, use autocorrect.Speller instead\n",
      "autocorrect.spell is deprecated, use autocorrect.Speller instead\n",
      "autocorrect.spell is deprecated, use autocorrect.Speller instead\n",
      "autocorrect.spell is deprecated, use autocorrect.Speller instead\n"
     ]
    }
   ],
   "source": [
    "w1 = spell('caaaar')\n",
    "w2 = spell('mussage')\n",
    "w3 = spell('survice')\n",
    "w4 = spell('hte')"
   ]
  },
  {
   "cell_type": "code",
   "execution_count": 36,
   "metadata": {},
   "outputs": [
    {
     "name": "stdout",
     "output_type": "stream",
     "text": [
      "caesar\n",
      "message\n",
      "service\n",
      "the\n"
     ]
    }
   ],
   "source": [
    "print(w1)\n",
    "print(w2)\n",
    "print(w3)\n",
    "print(w4)"
   ]
  },
  {
   "cell_type": "code",
   "execution_count": null,
   "metadata": {},
   "outputs": [],
   "source": []
  }
 ],
 "metadata": {
  "kernelspec": {
   "display_name": "Python 3",
   "language": "python",
   "name": "python3"
  },
  "language_info": {
   "codemirror_mode": {
    "name": "ipython",
    "version": 3
   },
   "file_extension": ".py",
   "mimetype": "text/x-python",
   "name": "python",
   "nbconvert_exporter": "python",
   "pygments_lexer": "ipython3",
   "version": "3.7.2"
  }
 },
 "nbformat": 4,
 "nbformat_minor": 2
}
