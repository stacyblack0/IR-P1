{
 "cells": [
  {
   "cell_type": "code",
   "execution_count": 9,
   "metadata": {},
   "outputs": [],
   "source": [
    "from querysuggestions import get_top_5_simple\n",
    "import pickle as pkl"
   ]
  },
  {
   "cell_type": "code",
   "execution_count": 10,
   "metadata": {},
   "outputs": [],
   "source": [
    "df = pkl.load(open('suggestions_df2.pkl', 'rb'))\n",
    "frequencies = pkl.load(open('frequencies.pkl', 'rb'))"
   ]
  },
  {
   "cell_type": "code",
   "execution_count": 11,
   "metadata": {},
   "outputs": [
    {
     "name": "stdout",
     "output_type": "stream",
     "text": [
      "CPU times: user 2.51 s, sys: 344 ms, total: 2.86 s\n",
      "Wall time: 3.01 s\n"
     ]
    },
    {
     "data": {
      "text/plain": [
       "array(['dog food recipes', 'dog food comparison', 'dog food brands',\n",
       "       'dog food companies', 'dog food review'], dtype=object)"
      ]
     },
     "execution_count": 11,
     "metadata": {},
     "output_type": "execute_result"
    }
   ],
   "source": [
    "%%time\n",
    "get_top_5_simple(df, frequencies, 'dog food')"
   ]
  },
  {
   "cell_type": "code",
   "execution_count": 12,
   "metadata": {
    "scrolled": false
   },
   "outputs": [
    {
     "name": "stdout",
     "output_type": "stream",
     "text": [
      "CPU times: user 4.85 s, sys: 72.8 ms, total: 4.92 s\n",
      "Wall time: 4.93 s\n"
     ]
    },
    {
     "data": {
      "text/plain": [
       "array(['cat health', 'cat breeds', 'cat scan', 'cat names',\n",
       "       'cat pictures'], dtype=object)"
      ]
     },
     "execution_count": 12,
     "metadata": {},
     "output_type": "execute_result"
    }
   ],
   "source": [
    "%%time\n",
    "get_top_5_simple(df, frequencies, 'cat')"
   ]
  },
  {
   "cell_type": "code",
   "execution_count": null,
   "metadata": {},
   "outputs": [],
   "source": [
    "%%time\n",
    "get_top_5_simple(df, frequencies, '9')"
   ]
  },
  {
   "cell_type": "code",
   "execution_count": 13,
   "metadata": {},
   "outputs": [
    {
     "data": {
      "text/plain": [
       "dtype('O')"
      ]
     },
     "execution_count": 13,
     "metadata": {},
     "output_type": "execute_result"
    }
   ],
   "source": [
    "df['Query'].dtype"
   ]
  },
  {
   "cell_type": "code",
   "execution_count": 8,
   "metadata": {},
   "outputs": [
    {
     "data": {
      "text/plain": [
       "1                        lottery\n",
       "1    family guy movie references\n",
       "1                   mail consort\n",
       "1       indian projectile points\n",
       "1               property leasing\n",
       "Name: Query, dtype: object"
      ]
     },
     "execution_count": 8,
     "metadata": {},
     "output_type": "execute_result"
    }
   ],
   "source": [
    "df['Query'].loc[1]"
   ]
  },
  {
   "cell_type": "code",
   "execution_count": 14,
   "metadata": {},
   "outputs": [
    {
     "data": {
      "text/html": [
       "<div>\n",
       "<style scoped>\n",
       "    .dataframe tbody tr th:only-of-type {\n",
       "        vertical-align: middle;\n",
       "    }\n",
       "\n",
       "    .dataframe tbody tr th {\n",
       "        vertical-align: top;\n",
       "    }\n",
       "\n",
       "    .dataframe thead th {\n",
       "        text-align: right;\n",
       "    }\n",
       "</style>\n",
       "<table border=\"1\" class=\"dataframe\">\n",
       "  <thead>\n",
       "    <tr style=\"text-align: right;\">\n",
       "      <th></th>\n",
       "      <th>AnonID</th>\n",
       "      <th>Query</th>\n",
       "      <th>QueryTime</th>\n",
       "      <th>q_time</th>\n",
       "      <th>q_split</th>\n",
       "      <th>q_length</th>\n",
       "    </tr>\n",
       "  </thead>\n",
       "  <tbody>\n",
       "    <tr>\n",
       "      <th>0</th>\n",
       "      <td>142</td>\n",
       "      <td>merit release appearance</td>\n",
       "      <td>2006-04-22 23:51:18</td>\n",
       "      <td>1.145750e+09</td>\n",
       "      <td>[merit, release, appearance]</td>\n",
       "      <td>3</td>\n",
       "    </tr>\n",
       "    <tr>\n",
       "      <th>1</th>\n",
       "      <td>217</td>\n",
       "      <td>lottery</td>\n",
       "      <td>2006-03-01 11:58:51</td>\n",
       "      <td>1.141214e+09</td>\n",
       "      <td>[lottery]</td>\n",
       "      <td>1</td>\n",
       "    </tr>\n",
       "    <tr>\n",
       "      <th>2</th>\n",
       "      <td>217</td>\n",
       "      <td>lottery</td>\n",
       "      <td>2006-03-27 14:10:38</td>\n",
       "      <td>1.143469e+09</td>\n",
       "      <td>[lottery]</td>\n",
       "      <td>1</td>\n",
       "    </tr>\n",
       "    <tr>\n",
       "      <th>3</th>\n",
       "      <td>217</td>\n",
       "      <td>vietnam</td>\n",
       "      <td>2006-05-22 17:43:42</td>\n",
       "      <td>1.148320e+09</td>\n",
       "      <td>[vietnam]</td>\n",
       "      <td>1</td>\n",
       "    </tr>\n",
       "    <tr>\n",
       "      <th>4</th>\n",
       "      <td>217</td>\n",
       "      <td>vietnam</td>\n",
       "      <td>2006-05-22 18:03:24</td>\n",
       "      <td>1.148321e+09</td>\n",
       "      <td>[vietnam]</td>\n",
       "      <td>1</td>\n",
       "    </tr>\n",
       "  </tbody>\n",
       "</table>\n",
       "</div>"
      ],
      "text/plain": [
       "   AnonID                     Query           QueryTime        q_time  \\\n",
       "0     142  merit release appearance 2006-04-22 23:51:18  1.145750e+09   \n",
       "1     217                   lottery 2006-03-01 11:58:51  1.141214e+09   \n",
       "2     217                   lottery 2006-03-27 14:10:38  1.143469e+09   \n",
       "3     217                   vietnam 2006-05-22 17:43:42  1.148320e+09   \n",
       "4     217                   vietnam 2006-05-22 18:03:24  1.148321e+09   \n",
       "\n",
       "                        q_split  q_length  \n",
       "0  [merit, release, appearance]         3  \n",
       "1                     [lottery]         1  \n",
       "2                     [lottery]         1  \n",
       "3                     [vietnam]         1  \n",
       "4                     [vietnam]         1  "
      ]
     },
     "execution_count": 14,
     "metadata": {},
     "output_type": "execute_result"
    }
   ],
   "source": [
    "df.head()"
   ]
  },
  {
   "cell_type": "code",
   "execution_count": 18,
   "metadata": {},
   "outputs": [
    {
     "data": {
      "text/plain": [
       "48"
      ]
     },
     "execution_count": 18,
     "metadata": {},
     "output_type": "execute_result"
    }
   ],
   "source": [
    "df['q_length'].max()"
   ]
  },
  {
   "cell_type": "code",
   "execution_count": 29,
   "metadata": {},
   "outputs": [
    {
     "name": "stdout",
     "output_type": "stream",
     "text": [
      "1 753923\n",
      "2 1335269\n",
      "3 896227\n",
      "4 491534\n",
      "5 240160\n",
      "6 114375\n",
      "7 53051\n",
      "8 26551\n",
      "9 13937\n",
      "10 7419\n",
      "11 3985\n",
      "12 2255\n",
      "13 1238\n",
      "14 837\n",
      "15 508\n",
      "16 386\n",
      "17 234\n",
      "18 153\n",
      "19 93\n",
      "20 69\n",
      "21 34\n",
      "22 22\n",
      "23 18\n",
      "24 17\n",
      "25 15\n",
      "26 11\n",
      "27 6\n",
      "28 11\n",
      "29 7\n",
      "30 2\n",
      "31 2\n"
     ]
    }
   ],
   "source": [
    "for i in range(1,df['q_length'].max()):\n",
    "    currentNum = len(df[df['q_length'] == i])\n",
    "    nextNum = len(df[df['q_length'] == i+1])\n",
    "    if currentNum > 0 and nextNum > 0:\n",
    "        print(str(i), currentNum)"
   ]
  },
  {
   "cell_type": "code",
   "execution_count": 24,
   "metadata": {},
   "outputs": [],
   "source": [
    "uniqueWords = set()\n",
    "def combineSets(row):\n",
    "    for x in row:\n",
    "        uniqueWords.add(x)"
   ]
  },
  {
   "cell_type": "code",
   "execution_count": 25,
   "metadata": {},
   "outputs": [
    {
     "data": {
      "text/plain": [
       "1         None\n",
       "2         None\n",
       "3         None\n",
       "4         None\n",
       "6         None\n",
       "7         None\n",
       "36        None\n",
       "38        None\n",
       "39        None\n",
       "40        None\n",
       "43        None\n",
       "49        None\n",
       "52        None\n",
       "54        None\n",
       "55        None\n",
       "66        None\n",
       "67        None\n",
       "68        None\n",
       "86        None\n",
       "87        None\n",
       "88        None\n",
       "90        None\n",
       "91        None\n",
       "92        None\n",
       "93        None\n",
       "101       None\n",
       "114       None\n",
       "118       None\n",
       "120       None\n",
       "121       None\n",
       "          ... \n",
       "834251    None\n",
       "834252    None\n",
       "834253    None\n",
       "834257    None\n",
       "834259    None\n",
       "834260    None\n",
       "834261    None\n",
       "834269    None\n",
       "834270    None\n",
       "834273    None\n",
       "834274    None\n",
       "834275    None\n",
       "834276    None\n",
       "834277    None\n",
       "834282    None\n",
       "834288    None\n",
       "834296    None\n",
       "834297    None\n",
       "834298    None\n",
       "834301    None\n",
       "834304    None\n",
       "834311    None\n",
       "834315    None\n",
       "834318    None\n",
       "834319    None\n",
       "834323    None\n",
       "834330    None\n",
       "834342    None\n",
       "834354    None\n",
       "834355    None\n",
       "Name: q_split, Length: 753923, dtype: object"
      ]
     },
     "execution_count": 25,
     "metadata": {},
     "output_type": "execute_result"
    }
   ],
   "source": [
    "df[df['q_length'] == 1]['q_split'].apply(lambda row: combineSets(row))"
   ]
  },
  {
   "cell_type": "code",
   "execution_count": 26,
   "metadata": {},
   "outputs": [
    {
     "data": {
      "text/plain": [
       "40197"
      ]
     },
     "execution_count": 26,
     "metadata": {},
     "output_type": "execute_result"
    }
   ],
   "source": [
    "len(uniqueWords)"
   ]
  }
 ],
 "metadata": {
  "kernelspec": {
   "display_name": "Python 3",
   "language": "python",
   "name": "python3"
  },
  "language_info": {
   "codemirror_mode": {
    "name": "ipython",
    "version": 3
   },
   "file_extension": ".py",
   "mimetype": "text/x-python",
   "name": "python",
   "nbconvert_exporter": "python",
   "pygments_lexer": "ipython3",
   "version": "3.6.6"
  }
 },
 "nbformat": 4,
 "nbformat_minor": 2
}
